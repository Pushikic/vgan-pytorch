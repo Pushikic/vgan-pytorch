{
 "cells": [
  {
   "cell_type": "markdown",
   "metadata": {},
   "source": [
    "参考：\n",
    "- http://aidiary.hatenablog.com/entry/20180304/1520172429\n",
    "- https://github.com/cross32768/VGAN/blob/master/VGAN.ipynb"
   ]
  },
  {
   "cell_type": "code",
   "execution_count": 1,
   "metadata": {},
   "outputs": [],
   "source": [
    "import os\n",
    "import pickle\n",
    "import numpy as np\n",
    "from tqdm import tqdm\n",
    "from tensorboardX import SummaryWriter\n",
    "import torch\n",
    "import torch.nn as nn\n",
    "import torch.optim as optim\n",
    "from torch.nn import functional as F\n",
    "from torch.utils.data import DataLoader\n",
    "from torchvision import datasets, transforms\n",
    "from torchvision.utils import save_image, make_grid\n",
    "\n",
    "import matplotlib.pyplot as plt\n",
    "%matplotlib inline"
   ]
  },
  {
   "cell_type": "code",
   "execution_count": 2,
   "metadata": {},
   "outputs": [
    {
     "name": "stdout",
     "output_type": "stream",
     "text": [
      "cuda\n"
     ]
    }
   ],
   "source": [
    "device = torch.device(\"cuda\" if torch.cuda.is_available() else \"cpu\")\n",
    "print(device)"
   ]
  },
  {
   "cell_type": "code",
   "execution_count": 3,
   "metadata": {},
   "outputs": [],
   "source": [
    "def initialize_weights(model):\n",
    "    for m in model.modules():\n",
    "        if isinstance(m, nn.Conv2d):\n",
    "            m.weight.data.normal_(0, 0.02)\n",
    "            m.bias.data.zero_()\n",
    "        elif isinstance(m, nn.ConvTranspose2d):\n",
    "            m.weight.data.normal_(0, 0.02)\n",
    "            m.bias.data.zero_()\n",
    "        elif isinstance(m, nn.Linear):\n",
    "            m.weight.data.normal_(0, 0.02)\n",
    "            m.bias.data.zero_()"
   ]
  },
  {
   "cell_type": "code",
   "execution_count": 4,
   "metadata": {},
   "outputs": [],
   "source": [
    "def train(D, G, D_criterion, G_criterion, D_optimizer, G_optimizer, data_loader, beta, writer, num_iter):\n",
    "\n",
    "    # 本物のラベルは1\n",
    "    y_real = torch.ones(batch_size, 1)\n",
    "    # 偽物のラベルは0\n",
    "    y_fake = torch.zeros(batch_size, 1)\n",
    "    \n",
    "    y_real = y_real.to(device)\n",
    "    y_fake = y_fake.to(device)\n",
    "\n",
    "    D_running_loss = 0\n",
    "    G_running_loss = 0\n",
    "    \n",
    "    for batch_idx, (real_images, _) in enumerate(tqdm(data_loader)):\n",
    "        # 訓練モードへ\n",
    "        D.train()\n",
    "        G.train()\n",
    "        \n",
    "        z = torch.rand((batch_size, z_dim))\n",
    "        real_images, z = real_images.to(device), z.to(device)\n",
    "\n",
    "        # Discriminatorの更新\n",
    "        D_optimizer.zero_grad()\n",
    "\n",
    "        # Discriminatorにとって本物画像の認識結果は1（本物）に近いほどよい\n",
    "        # E[log(D(x))]\n",
    "        D_real, mean, logvar = D(real_images)\n",
    "        D_real_loss, loss_kldiv_real = D_criterion(D_real, y_real, mean, logvar, beta)\n",
    "\n",
    "        # DiscriminatorにとってGeneratorが生成した偽物画像の認識結果は0（偽物）に近いほどよい\n",
    "        # E[log(1 - D(G(z)))]\n",
    "        # fake_imagesを通じて勾配がGに伝わらないようにdetach()して止める\n",
    "        fake_images = G(z)\n",
    "        D_fake, mean, logvar = D(fake_images.detach()) # ここはdetachする。\n",
    "        D_fake_loss, loss_kldiv_fake = D_criterion(D_fake, y_fake, mean, logvar, beta)\n",
    "\n",
    "        # 2つのlossの和を最小化する\n",
    "        D_loss = D_real_loss + D_fake_loss\n",
    "        D_loss.backward()\n",
    "        D_optimizer.step()\n",
    "        D_running_loss += D_loss.item()\n",
    "\n",
    "        # -------------------------------- ここから\n",
    "        loss_kldiv = loss_kldiv_real.item() + loss_kldiv_fake.item()\n",
    "        beta = max(0.0, beta + alpha * loss_kldiv)\n",
    "        # -------------------------------- ここまで\n",
    "        \n",
    "        # Generatorの更新\n",
    "        z = torch.rand((batch_size, z_dim))\n",
    "        z = z.to(device)\n",
    "\n",
    "        G_optimizer.zero_grad()\n",
    "\n",
    "        fake_images = G(z)\n",
    "        D_fake, mean, logvar = D(fake_images) # Dに判別してもらう！\n",
    "        G_loss = G_criterion(D_fake, y_real) # 本物が多いとloss小。\n",
    "        G_loss.backward()\n",
    "        G_optimizer.step()\n",
    "        G_running_loss += G_loss.item()\n",
    "        \n",
    "        # TensorBoardX\n",
    "        writer.add_scalar('train_G_loss', G_loss.item(), num_iter)\n",
    "        writer.add_scalar('train_D_loss', D_loss.item(), num_iter)\n",
    "        writer.add_scalar('beta', beta, num_iter)\n",
    "        if num_iter % 50 == 0:\n",
    "            G.eval()\n",
    "            sample_z = torch.rand((64, z_dim)).to(device)\n",
    "            with torch.no_grad():\n",
    "                sample = G(sample_z).to('cpu')\n",
    "            writer.add_image('Image_from_latent', make_grid(sample, nrow=8, padding=1), num_iter)\n",
    "        num_iter += 1\n",
    "    \n",
    "    D_running_loss /= len(data_loader)\n",
    "    G_running_loss /= len(data_loader)\n",
    "    \n",
    "    return D_running_loss, G_running_loss, num_iter, beta"
   ]
  },
  {
   "cell_type": "code",
   "execution_count": 5,
   "metadata": {},
   "outputs": [],
   "source": [
    "def generate(epoch, G, log_dir='logs'):\n",
    "    G.eval()\n",
    "    \n",
    "    os.makedirs(log_dir, exist_ok=True)\n",
    "\n",
    "    sample_z = torch.rand((64, z_dim))\n",
    "    sample_z = sample_z.to(device)\n",
    "    \n",
    "    with torch.no_grad():\n",
    "        samples = G(sample_z).to('cpu')\n",
    "    save_image(samples, os.path.join(log_dir, 'epoch_%03d.png' % (epoch)))"
   ]
  },
  {
   "cell_type": "code",
   "execution_count": 6,
   "metadata": {},
   "outputs": [],
   "source": [
    "# hyperparameters\n",
    "batch_size = 128\n",
    "lr = 0.0002\n",
    "z_dim = 62\n",
    "num_epochs = 100\n",
    "sample_num = 16\n",
    "log_dir = './logs/vgan'"
   ]
  },
  {
   "cell_type": "code",
   "execution_count": 7,
   "metadata": {},
   "outputs": [],
   "source": [
    "# load dataset\n",
    "transform = transforms.Compose([\n",
    "    transforms.ToTensor()\n",
    "])\n",
    "dataset = datasets.MNIST('data/mnist', train=True, download=True, transform=transform)\n",
    "data_loader = DataLoader(dataset, batch_size=batch_size, shuffle=True, drop_last=True)"
   ]
  },
  {
   "cell_type": "code",
   "execution_count": 8,
   "metadata": {},
   "outputs": [
    {
     "data": {
      "text/plain": [
       "(-0.5, 145.5, 145.5, -0.5)"
      ]
     },
     "execution_count": 8,
     "metadata": {},
     "output_type": "execute_result"
    },
    {
     "data": {
      "image/png": "[encoded data removed]",
      "text/plain": [
       "<Figure size 432x288 with 1 Axes>"
      ]
     },
     "metadata": {},
     "output_type": "display_data"
    }
   ],
   "source": [
    "# データの可視化\n",
    "def imshow(img):\n",
    "    npimg = img.numpy()\n",
    "    # [c, h, w] => [h, w, c]\n",
    "    plt.imshow(np.transpose(npimg, (1, 2, 0)))\n",
    "\n",
    "images, labels = iter(data_loader).next()\n",
    "images, labels = images[:25], labels[:25]\n",
    "imshow(make_grid(images, nrow=5, padding=1))\n",
    "plt.axis('off')"
   ]
  },
  {
   "cell_type": "code",
   "execution_count": 9,
   "metadata": {},
   "outputs": [],
   "source": [
    "class Generator(nn.Module):\n",
    "    \n",
    "    def __init__(self):\n",
    "        super(Generator, self).__init__()\n",
    "        \n",
    "        self.fc = nn.Sequential(\n",
    "            nn.Linear(62, 1024),\n",
    "            nn.BatchNorm1d(1024),\n",
    "            nn.ReLU(),\n",
    "            nn.Linear(1024, 128 * 7 * 7),\n",
    "            nn.BatchNorm1d(128 * 7 * 7),\n",
    "            nn.ReLU(),\n",
    "        )\n",
    "        \n",
    "        self.deconv = nn.Sequential(\n",
    "            nn.ConvTranspose2d(128, 64, kernel_size=4, stride=2, padding=1),\n",
    "            nn.BatchNorm2d(64),\n",
    "            nn.ReLU(),\n",
    "            nn.ConvTranspose2d(64, 1, kernel_size=4, stride=2, padding=1),\n",
    "            nn.Sigmoid(),\n",
    "        )\n",
    "        \n",
    "        initialize_weights(self)\n",
    "\n",
    "    def forward(self, input):\n",
    "        x = self.fc(input)\n",
    "        x = x.view(-1, 128, 7, 7)\n",
    "        x = self.deconv(x)\n",
    "        return x\n",
    "\n",
    "class Discriminator(nn.Module):\n",
    "    \n",
    "    def __init__(self):\n",
    "        super(Discriminator, self).__init__()\n",
    "        \n",
    "        # 1x28x28\n",
    "        self.conv = nn.Sequential(\n",
    "            nn.Conv2d(1, 64, kernel_size=4, stride=2, padding=1), # -> 64x32x32\n",
    "#             nn.BatchNorm2d(64),\n",
    "            nn.LeakyReLU(0.2),\n",
    "            \n",
    "            nn.Conv2d(64, 128, kernel_size=4, stride=2, padding=1), # -> 128x16x16\n",
    "            nn.BatchNorm2d(128),\n",
    "            nn.LeakyReLU(0.2),\n",
    "        )\n",
    "        \n",
    "        self.fc = nn.Sequential(\n",
    "            nn.Linear(128 * 7 * 7, 1024),\n",
    "            nn.BatchNorm1d(1024),\n",
    "            nn.LeakyReLU(0.2),\n",
    "            nn.Linear(1024, 1),\n",
    "            nn.Sigmoid(),\n",
    "        )\n",
    "        \n",
    "        # -------------------------------- ここから\n",
    "        self.conv_mus = nn.Conv2d(128, 128, kernel_size=1, stride=1, padding=0) # -> 128x7x7\n",
    "        self.conv_sigmas = nn.Conv2d(128, 128, kernel_size=1, stride=1, padding=0) # -> 128x7x7\n",
    "        # -------------------------------- ここまで\n",
    "        \n",
    "        initialize_weights(self)\n",
    "    \n",
    "    def forward(self, input):\n",
    "        x = self.conv(input)\n",
    "        \n",
    "        # -------------------------------- ここから\n",
    "        mus = self.conv_mus(x).view(-1, 128 * 7 * 7) # mean\n",
    "        sigmas = self.conv_sigmas(x).view(-1, 128 * 7 * 7) # logvar\n",
    "        sigmas = F.sigmoid(sigmas)\n",
    "        \n",
    "        noise = torch.randn(mus.size(), device=device)\n",
    "        z = noise * sigmas + mus\n",
    "#         z = (0.5 * sigmas).exp() * noise + mus\n",
    "        # -------------------------------- ここまで\n",
    "        \n",
    "        x = self.fc(z)\n",
    "        return x, mus, sigmas\n",
    "#         x = x.view(-1, 128 * 7 * 7) \n",
    "#         x = self.fc(x)\n",
    "#         return x, 0, 0"
   ]
  },
  {
   "cell_type": "code",
   "execution_count": 10,
   "metadata": {},
   "outputs": [],
   "source": [
    "# initialize network\n",
    "G = Generator().to(device)\n",
    "D = Discriminator().to(device)\n",
    "\n",
    "# optimizer\n",
    "G_optimizer = optim.Adam(G.parameters(), lr=lr, betas=(0.5, 0.999))\n",
    "D_optimizer = optim.Adam(D.parameters(), lr=lr, betas=(0.5, 0.999))\n",
    "\n",
    "# -------------------------------- ここから\n",
    "I_c = 0.1\n",
    "beta = 1.0\n",
    "alpha = 1e-5\n",
    "\n",
    "# def VDB_loss(out, label, mus, sigmas, beta):\n",
    "def VDB_loss(out, label, mean, sigma, beta):\n",
    "    normal_D_loss = F.binary_cross_entropy(out, label)\n",
    "    \n",
    "#     kldiv_loss = -0.5 * torch.sum(1 + logvar - mean.pow(2) - logvar.exp())\n",
    "#     kldiv_loss = 0.5 * torch.sum(logvar.exp() + mean.pow(2) - logvar - 1)\n",
    "    kldiv_loss = 0.5 * torch.mean(mean.pow(2) + sigma.pow(2) - (sigma.pow(2)+1e-8).log() - 1)\n",
    "    kldiv_loss = kldiv_loss.mean() - I_c\n",
    "    kldiv_loss = kldiv_loss - I_c\n",
    "#     print(kldiv_loss, normal_D_loss)\n",
    "    final_loss = normal_D_loss + beta * kldiv_loss\n",
    "    \n",
    "    return final_loss, kldiv_loss.detach()\n",
    "#     return F.binary_cross_entropy(out, label), 0\n",
    "# -------------------------------- ここまで\n",
    "\n",
    "G_criterion = nn.BCELoss()\n",
    "D_criterion = VDB_loss"
   ]
  },
  {
   "cell_type": "code",
   "execution_count": 11,
   "metadata": {},
   "outputs": [],
   "source": [
    "# D = Discriminator().to(device)\n",
    "# input = torch.rand((32, 3, 64, 64)).to(device)\n",
    "# out, mean, logvar = D(input)\n",
    "# # print(out.size(), mean.size(), logvar.size())"
   ]
  },
  {
   "cell_type": "code",
   "execution_count": null,
   "metadata": {
    "scrolled": true
   },
   "outputs": [
    {
     "name": "stderr",
     "output_type": "stream",
     "text": [
      "  0%|          | 0/468 [00:00<?, ?it/s]/home/nama/.pyenv/versions/3.6.5/lib/python3.6/site-packages/torch/nn/functional.py:1006: UserWarning: nn.functional.sigmoid is deprecated. Use torch.sigmoid instead.\n",
      "  warnings.warn(\"nn.functional.sigmoid is deprecated. Use torch.sigmoid instead.\")\n",
      "100%|██████████| 468/468 [00:24<00:00, 19.35it/s]\n",
      "  0%|          | 2/468 [00:00<00:23, 19.66it/s]"
     ]
    },
    {
     "name": "stdout",
     "output_type": "stream",
     "text": [
      "epoch 1, D_loss: 1.1852 G_loss: 0.6943\n"
     ]
    },
    {
     "name": "stderr",
     "output_type": "stream",
     "text": [
      "100%|██████████| 468/468 [00:23<00:00, 20.21it/s]\n",
      "  0%|          | 2/468 [00:00<00:23, 19.85it/s]"
     ]
    },
    {
     "name": "stdout",
     "output_type": "stream",
     "text": [
      "epoch 2, D_loss: 1.0018 G_loss: 0.6935\n"
     ]
    },
    {
     "name": "stderr",
     "output_type": "stream",
     "text": [
      "100%|██████████| 468/468 [00:23<00:00, 20.30it/s]\n",
      "  0%|          | 2/468 [00:00<00:23, 19.66it/s]"
     ]
    },
    {
     "name": "stdout",
     "output_type": "stream",
     "text": [
      "epoch 3, D_loss: 0.9923 G_loss: 0.6934\n"
     ]
    },
    {
     "name": "stderr",
     "output_type": "stream",
     "text": [
      "100%|██████████| 468/468 [00:22<00:00, 20.38it/s]\n",
      "  0%|          | 2/468 [00:00<00:23, 19.61it/s]"
     ]
    },
    {
     "name": "stdout",
     "output_type": "stream",
     "text": [
      "epoch 4, D_loss: 0.9907 G_loss: 0.6933\n"
     ]
    },
    {
     "name": "stderr",
     "output_type": "stream",
     "text": [
      "100%|██████████| 468/468 [00:23<00:00, 20.32it/s]\n",
      "  1%|          | 3/468 [00:00<00:22, 20.52it/s]"
     ]
    },
    {
     "name": "stdout",
     "output_type": "stream",
     "text": [
      "epoch 5, D_loss: 0.9905 G_loss: 0.6932\n"
     ]
    },
    {
     "name": "stderr",
     "output_type": "stream",
     "text": [
      "100%|██████████| 468/468 [00:23<00:00, 20.34it/s]\n",
      "  0%|          | 2/468 [00:00<00:23, 19.70it/s]"
     ]
    },
    {
     "name": "stdout",
     "output_type": "stream",
     "text": [
      "epoch 6, D_loss: 0.9908 G_loss: 0.6933\n"
     ]
    },
    {
     "name": "stderr",
     "output_type": "stream",
     "text": [
      "100%|██████████| 468/468 [00:23<00:00, 20.29it/s]\n",
      "  1%|          | 3/468 [00:00<00:22, 20.42it/s]"
     ]
    },
    {
     "name": "stdout",
     "output_type": "stream",
     "text": [
      "epoch 7, D_loss: 0.9913 G_loss: 0.6932\n"
     ]
    },
    {
     "name": "stderr",
     "output_type": "stream",
     "text": [
      "100%|██████████| 468/468 [00:22<00:00, 20.37it/s]\n",
      "  0%|          | 2/468 [00:00<00:23, 19.82it/s]"
     ]
    },
    {
     "name": "stdout",
     "output_type": "stream",
     "text": [
      "epoch 8, D_loss: 0.9919 G_loss: 0.6932\n"
     ]
    },
    {
     "name": "stderr",
     "output_type": "stream",
     "text": [
      "100%|██████████| 468/468 [00:23<00:00, 20.33it/s]\n",
      "  1%|          | 3/468 [00:00<00:22, 20.58it/s]"
     ]
    },
    {
     "name": "stdout",
     "output_type": "stream",
     "text": [
      "epoch 9, D_loss: 0.9926 G_loss: 0.6932\n"
     ]
    },
    {
     "name": "stderr",
     "output_type": "stream",
     "text": [
      "100%|██████████| 468/468 [00:22<00:00, 20.41it/s]\n",
      "  1%|          | 3/468 [00:00<00:22, 20.49it/s]"
     ]
    },
    {
     "name": "stdout",
     "output_type": "stream",
     "text": [
      "epoch 10, D_loss: 0.9933 G_loss: 0.6932\n"
     ]
    },
    {
     "name": "stderr",
     "output_type": "stream",
     "text": [
      "100%|██████████| 468/468 [00:22<00:00, 20.47it/s]\n",
      "  0%|          | 0/468 [00:00<?, ?it/s]"
     ]
    },
    {
     "name": "stdout",
     "output_type": "stream",
     "text": [
      "epoch 11, D_loss: 0.9940 G_loss: 0.6932\n"
     ]
    },
    {
     "name": "stderr",
     "output_type": "stream",
     "text": [
      "100%|██████████| 468/468 [00:23<00:00, 20.31it/s]\n",
      "  0%|          | 2/468 [00:00<00:23, 19.73it/s]"
     ]
    },
    {
     "name": "stdout",
     "output_type": "stream",
     "text": [
      "epoch 12, D_loss: 0.9947 G_loss: 0.6932\n"
     ]
    },
    {
     "name": "stderr",
     "output_type": "stream",
     "text": [
      "100%|██████████| 468/468 [00:22<00:00, 20.40it/s]\n",
      "  1%|          | 3/468 [00:00<00:22, 20.58it/s]"
     ]
    },
    {
     "name": "stdout",
     "output_type": "stream",
     "text": [
      "epoch 13, D_loss: 0.9955 G_loss: 0.6932\n"
     ]
    },
    {
     "name": "stderr",
     "output_type": "stream",
     "text": [
      "100%|██████████| 468/468 [00:23<00:00, 20.29it/s]\n",
      "  1%|          | 3/468 [00:00<00:22, 20.57it/s]"
     ]
    },
    {
     "name": "stdout",
     "output_type": "stream",
     "text": [
      "epoch 14, D_loss: 0.9962 G_loss: 0.6932\n"
     ]
    },
    {
     "name": "stderr",
     "output_type": "stream",
     "text": [
      "100%|██████████| 468/468 [00:22<00:00, 20.38it/s]\n",
      "  0%|          | 2/468 [00:00<00:23, 19.87it/s]"
     ]
    },
    {
     "name": "stdout",
     "output_type": "stream",
     "text": [
      "epoch 15, D_loss: 0.9969 G_loss: 0.6932\n"
     ]
    },
    {
     "name": "stderr",
     "output_type": "stream",
     "text": [
      "100%|██████████| 468/468 [00:22<00:00, 20.44it/s]\n",
      "  0%|          | 2/468 [00:00<00:23, 19.86it/s]"
     ]
    },
    {
     "name": "stdout",
     "output_type": "stream",
     "text": [
      "epoch 16, D_loss: 0.9977 G_loss: 0.6932\n"
     ]
    },
    {
     "name": "stderr",
     "output_type": "stream",
     "text": [
      "100%|██████████| 468/468 [00:22<00:00, 20.36it/s]\n",
      "  1%|          | 3/468 [00:00<00:22, 20.56it/s]"
     ]
    },
    {
     "name": "stdout",
     "output_type": "stream",
     "text": [
      "epoch 17, D_loss: 0.9984 G_loss: 0.6932\n"
     ]
    },
    {
     "name": "stderr",
     "output_type": "stream",
     "text": [
      "100%|██████████| 468/468 [00:22<00:00, 20.41it/s]\n",
      "  0%|          | 2/468 [00:00<00:24, 19.31it/s]"
     ]
    },
    {
     "name": "stdout",
     "output_type": "stream",
     "text": [
      "epoch 18, D_loss: 0.9991 G_loss: 0.6932\n"
     ]
    },
    {
     "name": "stderr",
     "output_type": "stream",
     "text": [
      "100%|██████████| 468/468 [00:22<00:00, 20.48it/s]\n",
      "  0%|          | 2/468 [00:00<00:23, 19.88it/s]"
     ]
    },
    {
     "name": "stdout",
     "output_type": "stream",
     "text": [
      "epoch 19, D_loss: 0.9999 G_loss: 0.6932\n"
     ]
    },
    {
     "name": "stderr",
     "output_type": "stream",
     "text": [
      "100%|██████████| 468/468 [00:22<00:00, 20.44it/s]\n",
      "  1%|          | 3/468 [00:00<00:22, 20.54it/s]"
     ]
    },
    {
     "name": "stdout",
     "output_type": "stream",
     "text": [
      "epoch 20, D_loss: 1.0006 G_loss: 0.6932\n"
     ]
    },
    {
     "name": "stderr",
     "output_type": "stream",
     "text": [
      "100%|██████████| 468/468 [00:22<00:00, 20.46it/s]\n",
      "  1%|          | 3/468 [00:00<00:22, 20.42it/s]"
     ]
    },
    {
     "name": "stdout",
     "output_type": "stream",
     "text": [
      "epoch 21, D_loss: 1.0014 G_loss: 0.6932\n"
     ]
    },
    {
     "name": "stderr",
     "output_type": "stream",
     "text": [
      "100%|██████████| 468/468 [00:22<00:00, 20.42it/s]\n",
      "  1%|          | 3/468 [00:00<00:22, 20.41it/s]"
     ]
    },
    {
     "name": "stdout",
     "output_type": "stream",
     "text": [
      "epoch 22, D_loss: 1.0021 G_loss: 0.6932\n"
     ]
    },
    {
     "name": "stderr",
     "output_type": "stream",
     "text": [
      "100%|██████████| 468/468 [00:22<00:00, 20.39it/s]\n",
      "  1%|          | 3/468 [00:00<00:22, 20.38it/s]"
     ]
    },
    {
     "name": "stdout",
     "output_type": "stream",
     "text": [
      "epoch 23, D_loss: 1.0029 G_loss: 0.6932\n"
     ]
    },
    {
     "name": "stderr",
     "output_type": "stream",
     "text": [
      "100%|██████████| 468/468 [00:22<00:00, 20.41it/s]\n",
      "  0%|          | 2/468 [00:00<00:23, 19.55it/s]"
     ]
    },
    {
     "name": "stdout",
     "output_type": "stream",
     "text": [
      "epoch 24, D_loss: 1.0036 G_loss: 0.6932\n"
     ]
    },
    {
     "name": "stderr",
     "output_type": "stream",
     "text": [
      "100%|██████████| 468/468 [00:22<00:00, 20.50it/s]\n",
      "  0%|          | 2/468 [00:00<00:28, 16.13it/s]"
     ]
    },
    {
     "name": "stdout",
     "output_type": "stream",
     "text": [
      "epoch 25, D_loss: 1.0044 G_loss: 0.6932\n"
     ]
    },
    {
     "name": "stderr",
     "output_type": "stream",
     "text": [
      "100%|██████████| 468/468 [00:22<00:00, 20.42it/s]\n",
      "  1%|          | 3/468 [00:00<00:22, 20.61it/s]"
     ]
    },
    {
     "name": "stdout",
     "output_type": "stream",
     "text": [
      "epoch 26, D_loss: 1.0051 G_loss: 0.6932\n"
     ]
    },
    {
     "name": "stderr",
     "output_type": "stream",
     "text": [
      "100%|██████████| 468/468 [00:22<00:00, 20.45it/s]\n",
      "  0%|          | 0/468 [00:00<?, ?it/s]"
     ]
    },
    {
     "name": "stdout",
     "output_type": "stream",
     "text": [
      "epoch 27, D_loss: 1.0059 G_loss: 0.6932\n"
     ]
    },
    {
     "name": "stderr",
     "output_type": "stream",
     "text": [
      "100%|██████████| 468/468 [00:22<00:00, 20.36it/s]\n",
      "  1%|          | 3/468 [00:00<00:22, 20.47it/s]"
     ]
    },
    {
     "name": "stdout",
     "output_type": "stream",
     "text": [
      "epoch 28, D_loss: 1.0066 G_loss: 0.6932\n"
     ]
    },
    {
     "name": "stderr",
     "output_type": "stream",
     "text": [
      "100%|██████████| 468/468 [00:22<00:00, 20.51it/s]\n",
      "  0%|          | 0/468 [00:00<?, ?it/s]"
     ]
    },
    {
     "name": "stdout",
     "output_type": "stream",
     "text": [
      "epoch 29, D_loss: 1.0073 G_loss: 0.6932\n"
     ]
    },
    {
     "name": "stderr",
     "output_type": "stream",
     "text": [
      "100%|██████████| 468/468 [00:22<00:00, 20.44it/s]\n",
      "  0%|          | 2/468 [00:00<00:24, 19.03it/s]"
     ]
    },
    {
     "name": "stdout",
     "output_type": "stream",
     "text": [
      "epoch 30, D_loss: 1.0081 G_loss: 0.6933\n"
     ]
    },
    {
     "name": "stderr",
     "output_type": "stream",
     "text": [
      "100%|██████████| 468/468 [00:22<00:00, 20.42it/s]\n",
      "  1%|          | 3/468 [00:00<00:22, 20.48it/s]"
     ]
    },
    {
     "name": "stdout",
     "output_type": "stream",
     "text": [
      "epoch 31, D_loss: 1.0088 G_loss: 0.6932\n"
     ]
    },
    {
     "name": "stderr",
     "output_type": "stream",
     "text": [
      "100%|██████████| 468/468 [00:22<00:00, 20.37it/s]\n",
      "  1%|          | 3/468 [00:00<00:22, 20.52it/s]"
     ]
    },
    {
     "name": "stdout",
     "output_type": "stream",
     "text": [
      "epoch 32, D_loss: 1.0096 G_loss: 0.6932\n"
     ]
    },
    {
     "name": "stderr",
     "output_type": "stream",
     "text": [
      "100%|██████████| 468/468 [00:22<00:00, 20.48it/s]\n",
      "  1%|          | 3/468 [00:00<00:22, 20.38it/s]"
     ]
    },
    {
     "name": "stdout",
     "output_type": "stream",
     "text": [
      "epoch 33, D_loss: 1.0103 G_loss: 0.6932\n"
     ]
    },
    {
     "name": "stderr",
     "output_type": "stream",
     "text": [
      "100%|██████████| 468/468 [00:22<00:00, 20.52it/s]\n",
      "  1%|          | 3/468 [00:00<00:22, 20.69it/s]"
     ]
    },
    {
     "name": "stdout",
     "output_type": "stream",
     "text": [
      "epoch 34, D_loss: 1.0111 G_loss: 0.6932\n"
     ]
    },
    {
     "name": "stderr",
     "output_type": "stream",
     "text": [
      "100%|██████████| 468/468 [00:22<00:00, 20.49it/s]\n",
      "  0%|          | 2/468 [00:00<00:24, 19.09it/s]"
     ]
    },
    {
     "name": "stdout",
     "output_type": "stream",
     "text": [
      "epoch 35, D_loss: 1.0118 G_loss: 0.6932\n"
     ]
    },
    {
     "name": "stderr",
     "output_type": "stream",
     "text": [
      "100%|██████████| 468/468 [00:22<00:00, 20.49it/s]\n",
      "  0%|          | 2/468 [00:00<00:23, 19.99it/s]"
     ]
    },
    {
     "name": "stdout",
     "output_type": "stream",
     "text": [
      "epoch 36, D_loss: 1.0126 G_loss: 0.6932\n"
     ]
    },
    {
     "name": "stderr",
     "output_type": "stream",
     "text": [
      "100%|██████████| 468/468 [00:23<00:00, 20.32it/s]\n",
      "  1%|          | 3/468 [00:00<00:22, 20.30it/s]"
     ]
    },
    {
     "name": "stdout",
     "output_type": "stream",
     "text": [
      "epoch 37, D_loss: 1.0133 G_loss: 0.6932\n"
     ]
    },
    {
     "name": "stderr",
     "output_type": "stream",
     "text": [
      "100%|██████████| 468/468 [00:23<00:00, 20.33it/s]\n",
      "  1%|          | 3/468 [00:00<00:22, 20.48it/s]"
     ]
    },
    {
     "name": "stdout",
     "output_type": "stream",
     "text": [
      "epoch 38, D_loss: 1.0141 G_loss: 0.6932\n"
     ]
    },
    {
     "name": "stderr",
     "output_type": "stream",
     "text": [
      "100%|██████████| 468/468 [00:22<00:00, 20.43it/s]\n",
      "  1%|          | 3/468 [00:00<00:22, 20.47it/s]"
     ]
    },
    {
     "name": "stdout",
     "output_type": "stream",
     "text": [
      "epoch 39, D_loss: 1.0148 G_loss: 0.6932\n"
     ]
    },
    {
     "name": "stderr",
     "output_type": "stream",
     "text": [
      "100%|██████████| 468/468 [00:22<00:00, 20.47it/s]\n",
      "  1%|          | 3/468 [00:00<00:22, 20.55it/s]"
     ]
    },
    {
     "name": "stdout",
     "output_type": "stream",
     "text": [
      "epoch 40, D_loss: 1.0156 G_loss: 0.6932\n"
     ]
    },
    {
     "name": "stderr",
     "output_type": "stream",
     "text": [
      "100%|██████████| 468/468 [00:22<00:00, 20.45it/s]\n",
      "  0%|          | 2/468 [00:00<00:23, 19.82it/s]"
     ]
    },
    {
     "name": "stdout",
     "output_type": "stream",
     "text": [
      "epoch 41, D_loss: 1.0163 G_loss: 0.6932\n"
     ]
    },
    {
     "name": "stderr",
     "output_type": "stream",
     "text": [
      "100%|██████████| 468/468 [00:23<00:00, 20.26it/s]\n",
      "  1%|          | 3/468 [00:00<00:22, 20.54it/s]"
     ]
    },
    {
     "name": "stdout",
     "output_type": "stream",
     "text": [
      "epoch 42, D_loss: 1.0171 G_loss: 0.6932\n"
     ]
    },
    {
     "name": "stderr",
     "output_type": "stream",
     "text": [
      "100%|██████████| 468/468 [00:22<00:00, 20.50it/s]\n",
      "  1%|          | 3/468 [00:00<00:22, 20.54it/s]"
     ]
    },
    {
     "name": "stdout",
     "output_type": "stream",
     "text": [
      "epoch 43, D_loss: 1.0178 G_loss: 0.6932\n"
     ]
    },
    {
     "name": "stderr",
     "output_type": "stream",
     "text": [
      "100%|██████████| 468/468 [00:22<00:00, 20.47it/s]\n",
      "  0%|          | 2/468 [00:00<00:23, 19.93it/s]"
     ]
    },
    {
     "name": "stdout",
     "output_type": "stream",
     "text": [
      "epoch 44, D_loss: 1.0186 G_loss: 0.6932\n"
     ]
    },
    {
     "name": "stderr",
     "output_type": "stream",
     "text": [
      "100%|██████████| 468/468 [00:22<00:00, 20.42it/s]\n",
      "  1%|          | 3/468 [00:00<00:22, 20.48it/s]"
     ]
    },
    {
     "name": "stdout",
     "output_type": "stream",
     "text": [
      "epoch 45, D_loss: 1.0193 G_loss: 0.6932\n"
     ]
    },
    {
     "name": "stderr",
     "output_type": "stream",
     "text": [
      "100%|██████████| 468/468 [00:22<00:00, 20.47it/s]\n",
      "  1%|          | 3/468 [00:00<00:22, 20.62it/s]"
     ]
    },
    {
     "name": "stdout",
     "output_type": "stream",
     "text": [
      "epoch 46, D_loss: 1.0201 G_loss: 0.6932\n"
     ]
    },
    {
     "name": "stderr",
     "output_type": "stream",
     "text": [
      "100%|██████████| 468/468 [00:22<00:00, 20.49it/s]\n",
      "  1%|          | 3/468 [00:00<00:22, 20.55it/s]"
     ]
    },
    {
     "name": "stdout",
     "output_type": "stream",
     "text": [
      "epoch 47, D_loss: 1.0208 G_loss: 0.6932\n"
     ]
    },
    {
     "name": "stderr",
     "output_type": "stream",
     "text": [
      "100%|██████████| 468/468 [00:22<00:00, 20.48it/s]\n",
      "  1%|          | 3/468 [00:00<00:22, 20.49it/s]"
     ]
    },
    {
     "name": "stdout",
     "output_type": "stream",
     "text": [
      "epoch 48, D_loss: 1.0216 G_loss: 0.6932\n"
     ]
    },
    {
     "name": "stderr",
     "output_type": "stream",
     "text": [
      "100%|██████████| 468/468 [00:22<00:00, 20.36it/s]\n",
      "  1%|          | 3/468 [00:00<00:22, 20.27it/s]"
     ]
    },
    {
     "name": "stdout",
     "output_type": "stream",
     "text": [
      "epoch 49, D_loss: 1.0223 G_loss: 0.6932\n"
     ]
    },
    {
     "name": "stderr",
     "output_type": "stream",
     "text": [
      "100%|██████████| 468/468 [00:22<00:00, 20.47it/s]\n",
      "  0%|          | 2/468 [00:00<00:28, 16.28it/s]"
     ]
    },
    {
     "name": "stdout",
     "output_type": "stream",
     "text": [
      "epoch 50, D_loss: 1.0231 G_loss: 0.6932\n"
     ]
    },
    {
     "name": "stderr",
     "output_type": "stream",
     "text": [
      "100%|██████████| 468/468 [00:22<00:00, 20.48it/s]\n",
      "  1%|          | 3/468 [00:00<00:22, 20.42it/s]"
     ]
    },
    {
     "name": "stdout",
     "output_type": "stream",
     "text": [
      "epoch 51, D_loss: 1.0238 G_loss: 0.6932\n"
     ]
    },
    {
     "name": "stderr",
     "output_type": "stream",
     "text": [
      "100%|██████████| 468/468 [00:22<00:00, 20.51it/s]\n",
      "  1%|          | 3/468 [00:00<00:22, 20.43it/s]"
     ]
    },
    {
     "name": "stdout",
     "output_type": "stream",
     "text": [
      "epoch 52, D_loss: 1.0245 G_loss: 0.6932\n"
     ]
    },
    {
     "name": "stderr",
     "output_type": "stream",
     "text": [
      "100%|██████████| 468/468 [00:22<00:00, 20.48it/s]\n",
      "  1%|          | 3/468 [00:00<00:22, 20.55it/s]"
     ]
    },
    {
     "name": "stdout",
     "output_type": "stream",
     "text": [
      "epoch 53, D_loss: 1.0253 G_loss: 0.6932\n"
     ]
    },
    {
     "name": "stderr",
     "output_type": "stream",
     "text": [
      "100%|██████████| 468/468 [00:22<00:00, 20.49it/s]\n",
      "  1%|          | 3/468 [00:00<00:22, 20.24it/s]"
     ]
    },
    {
     "name": "stdout",
     "output_type": "stream",
     "text": [
      "epoch 54, D_loss: 1.0260 G_loss: 0.6932\n"
     ]
    },
    {
     "name": "stderr",
     "output_type": "stream",
     "text": [
      "100%|██████████| 468/468 [00:23<00:00, 20.35it/s]\n",
      "  1%|          | 3/468 [00:00<00:22, 20.59it/s]"
     ]
    },
    {
     "name": "stdout",
     "output_type": "stream",
     "text": [
      "epoch 55, D_loss: 1.0268 G_loss: 0.6932\n"
     ]
    },
    {
     "name": "stderr",
     "output_type": "stream",
     "text": [
      "100%|██████████| 468/468 [00:22<00:00, 20.44it/s]\n",
      "  0%|          | 2/468 [00:00<00:23, 19.91it/s]"
     ]
    },
    {
     "name": "stdout",
     "output_type": "stream",
     "text": [
      "epoch 56, D_loss: 1.0275 G_loss: 0.6932\n"
     ]
    },
    {
     "name": "stderr",
     "output_type": "stream",
     "text": [
      "100%|██████████| 468/468 [00:22<00:00, 20.50it/s]\n",
      "  1%|          | 3/468 [00:00<00:22, 20.48it/s]"
     ]
    },
    {
     "name": "stdout",
     "output_type": "stream",
     "text": [
      "epoch 57, D_loss: 1.0283 G_loss: 0.6932\n"
     ]
    },
    {
     "name": "stderr",
     "output_type": "stream",
     "text": [
      "100%|██████████| 468/468 [00:22<00:00, 20.47it/s]\n",
      "  1%|          | 3/468 [00:00<00:22, 20.52it/s]"
     ]
    },
    {
     "name": "stdout",
     "output_type": "stream",
     "text": [
      "epoch 58, D_loss: 1.0290 G_loss: 0.6932\n"
     ]
    },
    {
     "name": "stderr",
     "output_type": "stream",
     "text": [
      "100%|██████████| 468/468 [00:22<00:00, 20.45it/s]\n",
      "  1%|          | 3/468 [00:00<00:22, 20.52it/s]"
     ]
    },
    {
     "name": "stdout",
     "output_type": "stream",
     "text": [
      "epoch 59, D_loss: 1.0298 G_loss: 0.6932\n"
     ]
    },
    {
     "name": "stderr",
     "output_type": "stream",
     "text": [
      "100%|██████████| 468/468 [00:22<00:00, 20.45it/s]\n",
      "  1%|          | 3/468 [00:00<00:22, 20.57it/s]"
     ]
    },
    {
     "name": "stdout",
     "output_type": "stream",
     "text": [
      "epoch 60, D_loss: 1.0305 G_loss: 0.6932\n"
     ]
    },
    {
     "name": "stderr",
     "output_type": "stream",
     "text": [
      "100%|██████████| 468/468 [00:22<00:00, 20.49it/s]\n",
      "  0%|          | 0/468 [00:00<?, ?it/s]"
     ]
    },
    {
     "name": "stdout",
     "output_type": "stream",
     "text": [
      "epoch 61, D_loss: 1.0313 G_loss: 0.6932\n"
     ]
    },
    {
     "name": "stderr",
     "output_type": "stream",
     "text": [
      "100%|██████████| 468/468 [00:22<00:00, 20.49it/s]\n",
      "  0%|          | 2/468 [00:00<00:23, 19.56it/s]"
     ]
    },
    {
     "name": "stdout",
     "output_type": "stream",
     "text": [
      "epoch 62, D_loss: 1.0320 G_loss: 0.6932\n"
     ]
    },
    {
     "name": "stderr",
     "output_type": "stream",
     "text": [
      "100%|██████████| 468/468 [00:22<00:00, 20.47it/s]\n",
      "  1%|          | 3/468 [00:00<00:22, 20.49it/s]"
     ]
    },
    {
     "name": "stdout",
     "output_type": "stream",
     "text": [
      "epoch 63, D_loss: 1.0328 G_loss: 0.6932\n"
     ]
    },
    {
     "name": "stderr",
     "output_type": "stream",
     "text": [
      "100%|██████████| 468/468 [00:22<00:00, 20.44it/s]\n",
      "  1%|          | 3/468 [00:00<00:22, 20.61it/s]"
     ]
    },
    {
     "name": "stdout",
     "output_type": "stream",
     "text": [
      "epoch 64, D_loss: 1.0335 G_loss: 0.6932\n"
     ]
    },
    {
     "name": "stderr",
     "output_type": "stream",
     "text": [
      "100%|██████████| 468/468 [00:22<00:00, 20.41it/s]\n",
      "  0%|          | 2/468 [00:00<00:23, 19.76it/s]"
     ]
    },
    {
     "name": "stdout",
     "output_type": "stream",
     "text": [
      "epoch 65, D_loss: 1.0343 G_loss: 0.6932\n"
     ]
    },
    {
     "name": "stderr",
     "output_type": "stream",
     "text": [
      "100%|██████████| 468/468 [00:22<00:00, 20.40it/s]\n",
      "  1%|          | 3/468 [00:00<00:22, 20.31it/s]"
     ]
    },
    {
     "name": "stdout",
     "output_type": "stream",
     "text": [
      "epoch 66, D_loss: 1.0350 G_loss: 0.6932\n"
     ]
    },
    {
     "name": "stderr",
     "output_type": "stream",
     "text": [
      "100%|██████████| 468/468 [00:23<00:00, 19.74it/s]\n",
      "  0%|          | 2/468 [00:00<00:23, 19.72it/s]"
     ]
    },
    {
     "name": "stdout",
     "output_type": "stream",
     "text": [
      "epoch 67, D_loss: 1.0358 G_loss: 0.6932\n"
     ]
    },
    {
     "name": "stderr",
     "output_type": "stream",
     "text": [
      "100%|██████████| 468/468 [00:23<00:00, 20.07it/s]\n",
      "  0%|          | 2/468 [00:00<00:23, 19.90it/s]"
     ]
    },
    {
     "name": "stdout",
     "output_type": "stream",
     "text": [
      "epoch 68, D_loss: 1.0365 G_loss: 0.6932\n"
     ]
    },
    {
     "name": "stderr",
     "output_type": "stream",
     "text": [
      "100%|██████████| 468/468 [00:23<00:00, 19.95it/s]\n",
      "  0%|          | 2/468 [00:00<00:24, 19.37it/s]"
     ]
    },
    {
     "name": "stdout",
     "output_type": "stream",
     "text": [
      "epoch 69, D_loss: 1.0373 G_loss: 0.6932\n"
     ]
    },
    {
     "name": "stderr",
     "output_type": "stream",
     "text": [
      " 59%|█████▉    | 278/468 [00:13<00:09, 19.89it/s]"
     ]
    }
   ],
   "source": [
    "writer = SummaryWriter()\n",
    "\n",
    "history = {}\n",
    "history['D_loss'] = []\n",
    "history['G_loss'] = []\n",
    "num_iter = 0\n",
    "\n",
    "for epoch in range(num_epochs):\n",
    "    D_loss, G_loss, num_iter, beta = train(D, G, D_criterion, G_criterion, D_optimizer, G_optimizer, data_loader, beta, writer, num_iter)\n",
    "    \n",
    "    print('epoch %d, D_loss: %.4f G_loss: %.4f' % (epoch + 1, D_loss, G_loss))\n",
    "    history['D_loss'].append(D_loss)\n",
    "    history['G_loss'].append(G_loss)\n",
    "    \n",
    "    # Generatorから画像を生成してモデルも保存\n",
    "    generate(epoch + 1, G, log_dir)\n",
    "    torch.save(G.state_dict(), os.path.join(log_dir, 'G_%03d.pth' % (epoch + 1)))\n",
    "    torch.save(D.state_dict(), os.path.join(log_dir, 'D_%03d.pth' % (epoch + 1)))"
   ]
  },
  {
   "cell_type": "code",
   "execution_count": null,
   "metadata": {},
   "outputs": [],
   "source": [
    "D_loss, G_loss = history['D_loss'], history['G_loss']\n",
    "plt.plot(D_loss, label='D_loss')\n",
    "plt.plot(G_loss, label='G_loss')\n",
    "plt.xlabel('epoch')\n",
    "plt.ylabel('loss')\n",
    "plt.legend()"
   ]
  },
  {
   "cell_type": "code",
   "execution_count": null,
   "metadata": {},
   "outputs": [],
   "source": [
    "from IPython.display import Image\n",
    "Image('logs/vgan/epoch_001.png')"
   ]
  },
  {
   "cell_type": "code",
   "execution_count": null,
   "metadata": {},
   "outputs": [],
   "source": [
    "Image('logs/vgan/epoch_010.png')"
   ]
  },
  {
   "cell_type": "code",
   "execution_count": null,
   "metadata": {},
   "outputs": [],
   "source": []
  }
 ],
 "metadata": {
  "kernelspec": {
   "display_name": "Python 3",
   "language": "python",
   "name": "python3"
  },
  "language_info": {
   "codemirror_mode": {
    "name": "ipython",
    "version": 3
   },
   "file_extension": ".py",
   "mimetype": "text/x-python",
   "name": "python",
   "nbconvert_exporter": "python",
   "pygments_lexer": "ipython3",
   "version": "3.6.5"
  }
 },
 "nbformat": 4,
 "nbformat_minor": 2
}

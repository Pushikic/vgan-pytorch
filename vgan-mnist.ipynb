{
 "cells": [
  {
   "cell_type": "markdown",
   "metadata": {},
   "source": [
    "参考：\n",
    "- http://aidiary.hatenablog.com/entry/20180304/1520172429\n",
    "- https://github.com/cross32768/VGAN/blob/master/VGAN.ipynb"
   ]
  },
  {
   "cell_type": "code",
   "execution_count": 1,
   "metadata": {},
   "outputs": [],
   "source": [
    "import os\n",
    "import pickle\n",
    "import numpy as np\n",
    "from tqdm import tqdm\n",
    "from tensorboardX import SummaryWriter\n",
    "import torch\n",
    "import torch.nn as nn\n",
    "import torch.optim as optim\n",
    "from torch.nn import functional as F\n",
    "from torch.utils.data import DataLoader\n",
    "from torchvision import datasets, transforms\n",
    "from torchvision.utils import save_image, make_grid\n",
    "\n",
    "import matplotlib.pyplot as plt\n",
    "%matplotlib inline"
   ]
  },
  {
   "cell_type": "code",
   "execution_count": 2,
   "metadata": {},
   "outputs": [
    {
     "name": "stdout",
     "output_type": "stream",
     "text": [
      "cuda\n"
     ]
    }
   ],
   "source": [
    "device = torch.device(\"cuda\" if torch.cuda.is_available() else \"cpu\")\n",
    "print(device)"
   ]
  },
  {
   "cell_type": "code",
   "execution_count": 3,
   "metadata": {},
   "outputs": [],
   "source": [
    "def initialize_weights(model):\n",
    "    for m in model.modules():\n",
    "        if isinstance(m, nn.Conv2d):\n",
    "            m.weight.data.normal_(0, 0.02)\n",
    "            m.bias.data.zero_()\n",
    "        elif isinstance(m, nn.ConvTranspose2d):\n",
    "            m.weight.data.normal_(0, 0.02)\n",
    "            m.bias.data.zero_()\n",
    "        elif isinstance(m, nn.Linear):\n",
    "            m.weight.data.normal_(0, 0.02)\n",
    "            m.bias.data.zero_()"
   ]
  },
  {
   "cell_type": "code",
   "execution_count": 4,
   "metadata": {},
   "outputs": [],
   "source": [
    "def train(D, G, D_criterion, G_criterion, D_optimizer, G_optimizer, data_loader, beta, writer, num_iter):\n",
    "\n",
    "    # 本物のラベルは1\n",
    "    y_real = torch.ones(batch_size, 1)\n",
    "    # 偽物のラベルは0\n",
    "    y_fake = torch.zeros(batch_size, 1)\n",
    "    \n",
    "    y_real = y_real.to(device)\n",
    "    y_fake = y_fake.to(device)\n",
    "\n",
    "    D_running_loss = 0\n",
    "    G_running_loss = 0\n",
    "    \n",
    "    for batch_idx, (real_images, _) in enumerate(tqdm(data_loader)):\n",
    "        # 訓練モードへ\n",
    "        D.train()\n",
    "        G.train()\n",
    "        \n",
    "        z = torch.rand((batch_size, z_dim))\n",
    "        real_images, z = real_images.to(device), z.to(device)\n",
    "\n",
    "        # Discriminatorの更新\n",
    "        D_optimizer.zero_grad()\n",
    "\n",
    "        # Discriminatorにとって本物画像の認識結果は1（本物）に近いほどよい\n",
    "        # E[log(D(x))]\n",
    "        D_real, mean, logvar = D(real_images)\n",
    "        D_real_loss, loss_kldiv_real = D_criterion(D_real, y_real, mean, logvar, beta)\n",
    "\n",
    "        # DiscriminatorにとってGeneratorが生成した偽物画像の認識結果は0（偽物）に近いほどよい\n",
    "        # E[log(1 - D(G(z)))]\n",
    "        # fake_imagesを通じて勾配がGに伝わらないようにdetach()して止める\n",
    "        fake_images = G(z)\n",
    "        D_fake, mean, logvar = D(fake_images.detach()) # ここはdetachする。\n",
    "        D_fake_loss, loss_kldiv_fake = D_criterion(D_fake, y_fake, mean, logvar, beta)\n",
    "\n",
    "        # 2つのlossの和を最小化する\n",
    "        D_loss = D_real_loss + D_fake_loss\n",
    "        D_loss.backward()\n",
    "        D_optimizer.step()\n",
    "        D_running_loss += D_loss.item()\n",
    "\n",
    "        # -------------------------------- ここから\n",
    "        loss_kldiv = loss_kldiv_real.item() + loss_kldiv_fake.item()\n",
    "        beta = max(0.0, beta + alpha * loss_kldiv)\n",
    "        # -------------------------------- ここまで\n",
    "        \n",
    "        # Generatorの更新\n",
    "        z = torch.rand((batch_size, z_dim))\n",
    "        z = z.to(device)\n",
    "\n",
    "        G_optimizer.zero_grad()\n",
    "\n",
    "        fake_images = G(z)\n",
    "        D_fake, mean, logvar = D(fake_images) # Dに判別してもらう！\n",
    "        G_loss = G_criterion(D_fake, y_real) # 本物が多いとloss小。\n",
    "        G_loss.backward()\n",
    "        G_optimizer.step()\n",
    "        G_running_loss += G_loss.item()\n",
    "        \n",
    "        # TensorBoardX\n",
    "        writer.add_scalar('train_G_loss', G_loss.item(), num_iter)\n",
    "        writer.add_scalar('train_D_loss', D_loss.item(), num_iter)\n",
    "        writer.add_scalar('beta', beta, num_iter)\n",
    "        if num_iter % 50 == 0:\n",
    "            G.eval()\n",
    "            sample_z = torch.rand((64, z_dim)).to(device)\n",
    "            with torch.no_grad():\n",
    "                sample = G(sample_z).to('cpu')\n",
    "            writer.add_image('Image_from_latent', make_grid(sample, nrow=8, padding=1), num_iter)\n",
    "        num_iter += 1\n",
    "    \n",
    "    D_running_loss /= len(data_loader)\n",
    "    G_running_loss /= len(data_loader)\n",
    "    \n",
    "    return D_running_loss, G_running_loss, num_iter, beta"
   ]
  },
  {
   "cell_type": "code",
   "execution_count": 5,
   "metadata": {},
   "outputs": [],
   "source": [
    "def generate(epoch, G, log_dir='logs'):\n",
    "    G.eval()\n",
    "    \n",
    "    os.makedirs(log_dir, exist_ok=True)\n",
    "\n",
    "    sample_z = torch.rand((64, z_dim))\n",
    "    sample_z = sample_z.to(device)\n",
    "    \n",
    "    with torch.no_grad():\n",
    "        samples = G(sample_z).to('cpu')\n",
    "    save_image(samples, os.path.join(log_dir, 'epoch_%03d.png' % (epoch)))"
   ]
  },
  {
   "cell_type": "code",
   "execution_count": 6,
   "metadata": {},
   "outputs": [],
   "source": [
    "# hyperparameters\n",
    "batch_size = 128\n",
    "lr = 0.0002\n",
    "z_dim = 62\n",
    "num_epochs = 100\n",
    "sample_num = 16\n",
    "log_dir = './logs/vgan'"
   ]
  },
  {
   "cell_type": "code",
   "execution_count": 7,
   "metadata": {},
   "outputs": [],
   "source": [
    "# load dataset\n",
    "transform = transforms.Compose([\n",
    "    transforms.ToTensor()\n",
    "])\n",
    "dataset = datasets.MNIST('data/mnist', train=True, download=True, transform=transform)\n",
    "data_loader = DataLoader(dataset, batch_size=batch_size, shuffle=True, drop_last=True)"
   ]
  },
  {
   "cell_type": "code",
   "execution_count": 8,
   "metadata": {},
   "outputs": [
    {
     "data": {
      "text/plain": [
       "(-0.5, 145.5, 145.5, -0.5)"
      ]
     },
     "execution_count": 8,
     "metadata": {},
     "output_type": "execute_result"
    },
    {
     "data": {
      "image/png": "[encoded data removed]",
      "text/plain": [
       "<Figure size 432x288 with 1 Axes>"
      ]
     },
     "metadata": {},
     "output_type": "display_data"
    }
   ],
   "source": [
    "# データの可視化\n",
    "def imshow(img):\n",
    "    npimg = img.numpy()\n",
    "    # [c, h, w] => [h, w, c]\n",
    "    plt.imshow(np.transpose(npimg, (1, 2, 0)))\n",
    "\n",
    "images, labels = iter(data_loader).next()\n",
    "images, labels = images[:25], labels[:25]\n",
    "imshow(make_grid(images, nrow=5, padding=1))\n",
    "plt.axis('off')"
   ]
  },
  {
   "cell_type": "code",
   "execution_count": 9,
   "metadata": {},
   "outputs": [],
   "source": [
    "class Generator(nn.Module):\n",
    "    \n",
    "    def __init__(self):\n",
    "        super(Generator, self).__init__()\n",
    "        \n",
    "        self.fc = nn.Sequential(\n",
    "            nn.Linear(62, 1024),\n",
    "            nn.BatchNorm1d(1024),\n",
    "            nn.ReLU(),\n",
    "            nn.Linear(1024, 128 * 7 * 7),\n",
    "            nn.BatchNorm1d(128 * 7 * 7),\n",
    "            nn.ReLU(),\n",
    "        )\n",
    "        \n",
    "        self.deconv = nn.Sequential(\n",
    "            nn.ConvTranspose2d(128, 64, kernel_size=4, stride=2, padding=1),\n",
    "            nn.BatchNorm2d(64),\n",
    "            nn.ReLU(),\n",
    "            nn.ConvTranspose2d(64, 1, kernel_size=4, stride=2, padding=1),\n",
    "            nn.Sigmoid(),\n",
    "        )\n",
    "        \n",
    "        initialize_weights(self)\n",
    "\n",
    "    def forward(self, input):\n",
    "        x = self.fc(input)\n",
    "        x = x.view(-1, 128, 7, 7)\n",
    "        x = self.deconv(x)\n",
    "        return x\n",
    "\n",
    "class Discriminator(nn.Module):\n",
    "    \n",
    "    def __init__(self):\n",
    "        super(Discriminator, self).__init__()\n",
    "        \n",
    "        # 1x28x28\n",
    "        self.conv = nn.Sequential(\n",
    "            nn.Conv2d(1, 64, kernel_size=4, stride=2, padding=1), # -> 64x32x32\n",
    "            nn.LeakyReLU(0.2),\n",
    "            nn.Conv2d(64, 128, kernel_size=4, stride=2, padding=1), # -> 128x16x16\n",
    "            nn.BatchNorm2d(128),\n",
    "            nn.LeakyReLU(0.2),\n",
    "        )\n",
    "        \n",
    "        self.fc = nn.Sequential(\n",
    "            nn.Linear(128 * 7 * 7, 1024),\n",
    "            nn.BatchNorm1d(1024),\n",
    "            nn.LeakyReLU(0.2),\n",
    "            nn.Linear(1024, 1),\n",
    "            nn.Sigmoid(),\n",
    "        )\n",
    "        \n",
    "        # -------------------------------- ここから\n",
    "        self.conv_mus = nn.Conv2d(128, 128, kernel_size=1, stride=1, padding=0) # -> 128x7x7\n",
    "        self.conv_sigmas = nn.Conv2d(128, 128, kernel_size=1, stride=1, padding=0) # -> 128x7x7\n",
    "        # -------------------------------- ここまで\n",
    "        \n",
    "        initialize_weights(self)\n",
    "    \n",
    "    def forward(self, input):\n",
    "        x = self.conv(input)\n",
    "        \n",
    "        # -------------------------------- ここから\n",
    "        mus = self.conv_mus(x).view(-1, 128 * 7 * 7) # mean\n",
    "        sigmas = self.conv_sigmas(x).view(-1, 128 * 7 * 7) # logvar\n",
    "        noise = torch.randn(mus.size(), device=device)\n",
    "        z = (0.5 * sigmas).exp() * noise + mus\n",
    "        # -------------------------------- ここまで\n",
    "        \n",
    "        x = self.fc(z)\n",
    "        return x, mus, sigmas"
   ]
  },
  {
   "cell_type": "code",
   "execution_count": 10,
   "metadata": {},
   "outputs": [],
   "source": [
    "# initialize network\n",
    "G = Generator().to(device)\n",
    "D = Discriminator().to(device)\n",
    "\n",
    "# optimizer\n",
    "G_optimizer = optim.Adam(G.parameters(), lr=lr, betas=(0.5, 0.999))\n",
    "D_optimizer = optim.Adam(D.parameters(), lr=lr, betas=(0.5, 0.999))\n",
    "\n",
    "# -------------------------------- ここから\n",
    "I_c = 0.1\n",
    "beta = 0 #1.0\n",
    "alpha = 1e-5\n",
    "\n",
    "def VDB_loss(out, label, mean, sigma, beta):\n",
    "    normal_D_loss = torch.mean(F.binary_cross_entropy(out, label))\n",
    "    \n",
    "    kldiv_loss = - 0.5 * torch.mean(1 + sigma - mean.pow(2) - sigma.exp())\n",
    "    kldiv_loss = kldiv_loss.mean() - I_c\n",
    "    final_loss = normal_D_loss + beta * kldiv_loss\n",
    "    \n",
    "    return final_loss, kldiv_loss.detach()\n",
    "# -------------------------------- ここまで\n",
    "\n",
    "G_criterion = nn.BCELoss()\n",
    "D_criterion = VDB_loss"
   ]
  },
  {
   "cell_type": "code",
   "execution_count": 12,
   "metadata": {
    "scrolled": true
   },
   "outputs": [
    {
     "name": "stderr",
     "output_type": "stream",
     "text": [
      "100%|██████████| 468/468 [00:23<00:00, 19.54it/s]\n"
     ]
    },
    {
     "name": "stdout",
     "output_type": "stream",
     "text": [
      "epoch 1, D_loss: 1.3885 G_loss: 0.6943\n"
     ]
    },
    {
     "name": "stderr",
     "output_type": "stream",
     "text": [
      "100%|██████████| 468/468 [00:23<00:00, 19.92it/s]\n",
      "  0%|          | 2/468 [00:00<00:25, 18.31it/s]"
     ]
    },
    {
     "name": "stdout",
     "output_type": "stream",
     "text": [
      "epoch 2, D_loss: 1.3869 G_loss: 0.6934\n"
     ]
    },
    {
     "name": "stderr",
     "output_type": "stream",
     "text": [
      "100%|██████████| 468/468 [00:23<00:00, 19.96it/s]\n",
      "  0%|          | 0/468 [00:00<?, ?it/s]"
     ]
    },
    {
     "name": "stdout",
     "output_type": "stream",
     "text": [
      "epoch 3, D_loss: 1.3867 G_loss: 0.6933\n"
     ]
    },
    {
     "name": "stderr",
     "output_type": "stream",
     "text": [
      "100%|██████████| 468/468 [00:23<00:00, 20.01it/s]\n",
      "  0%|          | 2/468 [00:00<00:23, 19.81it/s]"
     ]
    },
    {
     "name": "stdout",
     "output_type": "stream",
     "text": [
      "epoch 4, D_loss: 1.3866 G_loss: 0.6933\n"
     ]
    },
    {
     "name": "stderr",
     "output_type": "stream",
     "text": [
      "100%|██████████| 468/468 [00:22<00:00, 20.44it/s]\n",
      "  0%|          | 2/468 [00:00<00:25, 17.93it/s]"
     ]
    },
    {
     "name": "stdout",
     "output_type": "stream",
     "text": [
      "epoch 5, D_loss: 1.3865 G_loss: 0.6933\n"
     ]
    },
    {
     "name": "stderr",
     "output_type": "stream",
     "text": [
      "100%|██████████| 468/468 [00:23<00:00, 19.75it/s]\n",
      "  0%|          | 0/468 [00:00<?, ?it/s]"
     ]
    },
    {
     "name": "stdout",
     "output_type": "stream",
     "text": [
      "epoch 6, D_loss: 1.3865 G_loss: 0.6932\n"
     ]
    },
    {
     "name": "stderr",
     "output_type": "stream",
     "text": [
      "100%|██████████| 468/468 [00:23<00:00, 19.62it/s]\n",
      "  0%|          | 0/468 [00:00<?, ?it/s]"
     ]
    },
    {
     "name": "stdout",
     "output_type": "stream",
     "text": [
      "epoch 7, D_loss: 1.3865 G_loss: 0.6933\n"
     ]
    },
    {
     "name": "stderr",
     "output_type": "stream",
     "text": [
      "100%|██████████| 468/468 [00:23<00:00, 19.74it/s]\n",
      "  0%|          | 2/468 [00:00<00:24, 19.38it/s]"
     ]
    },
    {
     "name": "stdout",
     "output_type": "stream",
     "text": [
      "epoch 8, D_loss: 1.3864 G_loss: 0.6932\n"
     ]
    },
    {
     "name": "stderr",
     "output_type": "stream",
     "text": [
      "100%|██████████| 468/468 [00:24<00:00, 19.50it/s]\n",
      "  0%|          | 0/468 [00:00<?, ?it/s]"
     ]
    },
    {
     "name": "stdout",
     "output_type": "stream",
     "text": [
      "epoch 9, D_loss: 1.3864 G_loss: 0.6933\n"
     ]
    },
    {
     "name": "stderr",
     "output_type": "stream",
     "text": [
      "100%|██████████| 468/468 [00:23<00:00, 19.80it/s]\n",
      "  0%|          | 2/468 [00:00<00:23, 19.71it/s]"
     ]
    },
    {
     "name": "stdout",
     "output_type": "stream",
     "text": [
      "epoch 10, D_loss: 1.3864 G_loss: 0.6932\n"
     ]
    },
    {
     "name": "stderr",
     "output_type": "stream",
     "text": [
      "100%|██████████| 468/468 [00:23<00:00, 19.90it/s]\n",
      "  0%|          | 0/468 [00:00<?, ?it/s]"
     ]
    },
    {
     "name": "stdout",
     "output_type": "stream",
     "text": [
      "epoch 11, D_loss: 1.3864 G_loss: 0.6932\n"
     ]
    },
    {
     "name": "stderr",
     "output_type": "stream",
     "text": [
      "100%|██████████| 468/468 [00:23<00:00, 19.50it/s]\n",
      "  0%|          | 0/468 [00:00<?, ?it/s]"
     ]
    },
    {
     "name": "stdout",
     "output_type": "stream",
     "text": [
      "epoch 12, D_loss: 1.3824 G_loss: 0.6966\n"
     ]
    },
    {
     "name": "stderr",
     "output_type": "stream",
     "text": [
      "100%|██████████| 468/468 [00:23<00:00, 20.15it/s]\n",
      "  0%|          | 0/468 [00:00<?, ?it/s]"
     ]
    },
    {
     "name": "stdout",
     "output_type": "stream",
     "text": [
      "epoch 13, D_loss: 1.2497 G_loss: 0.8230\n"
     ]
    },
    {
     "name": "stderr",
     "output_type": "stream",
     "text": [
      "100%|██████████| 468/468 [00:23<00:00, 19.85it/s]\n",
      "  0%|          | 2/468 [00:00<00:27, 17.11it/s]"
     ]
    },
    {
     "name": "stdout",
     "output_type": "stream",
     "text": [
      "epoch 14, D_loss: 1.1396 G_loss: 0.9545\n"
     ]
    },
    {
     "name": "stderr",
     "output_type": "stream",
     "text": [
      "100%|██████████| 468/468 [00:23<00:00, 19.89it/s]\n",
      "  0%|          | 2/468 [00:00<00:24, 19.30it/s]"
     ]
    },
    {
     "name": "stdout",
     "output_type": "stream",
     "text": [
      "epoch 15, D_loss: 1.0862 G_loss: 1.0454\n"
     ]
    },
    {
     "name": "stderr",
     "output_type": "stream",
     "text": [
      "100%|██████████| 468/468 [00:23<00:00, 20.02it/s]\n",
      "  0%|          | 2/468 [00:00<00:23, 19.47it/s]"
     ]
    },
    {
     "name": "stdout",
     "output_type": "stream",
     "text": [
      "epoch 16, D_loss: 1.0494 G_loss: 1.1098\n"
     ]
    },
    {
     "name": "stderr",
     "output_type": "stream",
     "text": [
      "100%|██████████| 468/468 [00:23<00:00, 19.71it/s]\n"
     ]
    },
    {
     "name": "stdout",
     "output_type": "stream",
     "text": [
      "epoch 17, D_loss: 1.0023 G_loss: 1.1782\n"
     ]
    },
    {
     "name": "stderr",
     "output_type": "stream",
     "text": [
      "100%|██████████| 468/468 [00:23<00:00, 19.77it/s]\n",
      "  0%|          | 0/468 [00:00<?, ?it/s]"
     ]
    },
    {
     "name": "stdout",
     "output_type": "stream",
     "text": [
      "epoch 18, D_loss: 0.9857 G_loss: 1.2362\n"
     ]
    },
    {
     "name": "stderr",
     "output_type": "stream",
     "text": [
      "100%|██████████| 468/468 [00:23<00:00, 19.82it/s]\n",
      "  0%|          | 2/468 [00:00<00:24, 18.71it/s]"
     ]
    },
    {
     "name": "stdout",
     "output_type": "stream",
     "text": [
      "epoch 19, D_loss: 0.9616 G_loss: 1.2814\n"
     ]
    },
    {
     "name": "stderr",
     "output_type": "stream",
     "text": [
      "100%|██████████| 468/468 [00:23<00:00, 19.97it/s]\n",
      "  0%|          | 2/468 [00:00<00:23, 19.86it/s]"
     ]
    },
    {
     "name": "stdout",
     "output_type": "stream",
     "text": [
      "epoch 20, D_loss: 0.9368 G_loss: 1.3139\n"
     ]
    },
    {
     "name": "stderr",
     "output_type": "stream",
     "text": [
      "100%|██████████| 468/468 [00:23<00:00, 20.05it/s]\n",
      "  0%|          | 2/468 [00:00<00:24, 19.14it/s]"
     ]
    },
    {
     "name": "stdout",
     "output_type": "stream",
     "text": [
      "epoch 21, D_loss: 0.9151 G_loss: 1.3648\n"
     ]
    },
    {
     "name": "stderr",
     "output_type": "stream",
     "text": [
      "100%|██████████| 468/468 [00:24<00:00, 19.46it/s]\n",
      "  0%|          | 2/468 [00:00<00:24, 19.04it/s]"
     ]
    },
    {
     "name": "stdout",
     "output_type": "stream",
     "text": [
      "epoch 22, D_loss: 0.9045 G_loss: 1.4147\n"
     ]
    },
    {
     "name": "stderr",
     "output_type": "stream",
     "text": [
      "100%|██████████| 468/468 [00:23<00:00, 19.71it/s]\n",
      "  0%|          | 0/468 [00:00<?, ?it/s]"
     ]
    },
    {
     "name": "stdout",
     "output_type": "stream",
     "text": [
      "epoch 23, D_loss: 0.9142 G_loss: 1.4213\n"
     ]
    },
    {
     "name": "stderr",
     "output_type": "stream",
     "text": [
      "100%|██████████| 468/468 [00:22<00:00, 20.36it/s]\n"
     ]
    },
    {
     "name": "stdout",
     "output_type": "stream",
     "text": [
      "epoch 24, D_loss: 0.8735 G_loss: 1.4573\n"
     ]
    },
    {
     "name": "stderr",
     "output_type": "stream",
     "text": [
      "100%|██████████| 468/468 [00:22<00:00, 20.39it/s]\n",
      "  0%|          | 2/468 [00:00<00:26, 17.91it/s]"
     ]
    },
    {
     "name": "stdout",
     "output_type": "stream",
     "text": [
      "epoch 25, D_loss: 0.8764 G_loss: 1.4798\n"
     ]
    },
    {
     "name": "stderr",
     "output_type": "stream",
     "text": [
      "100%|██████████| 468/468 [00:23<00:00, 19.58it/s]\n"
     ]
    },
    {
     "name": "stdout",
     "output_type": "stream",
     "text": [
      "epoch 26, D_loss: 0.8802 G_loss: 1.5039\n"
     ]
    },
    {
     "name": "stderr",
     "output_type": "stream",
     "text": [
      "100%|██████████| 468/468 [00:24<00:00, 19.44it/s]\n",
      "  0%|          | 2/468 [00:00<00:23, 19.62it/s]"
     ]
    },
    {
     "name": "stdout",
     "output_type": "stream",
     "text": [
      "epoch 27, D_loss: 0.8707 G_loss: 1.5153\n"
     ]
    },
    {
     "name": "stderr",
     "output_type": "stream",
     "text": [
      "100%|██████████| 468/468 [00:23<00:00, 19.80it/s]\n",
      "  0%|          | 0/468 [00:00<?, ?it/s]"
     ]
    },
    {
     "name": "stdout",
     "output_type": "stream",
     "text": [
      "epoch 28, D_loss: 0.8505 G_loss: 1.5491\n"
     ]
    },
    {
     "name": "stderr",
     "output_type": "stream",
     "text": [
      "100%|██████████| 468/468 [00:23<00:00, 20.16it/s]\n",
      "  0%|          | 2/468 [00:00<00:23, 19.89it/s]"
     ]
    },
    {
     "name": "stdout",
     "output_type": "stream",
     "text": [
      "epoch 29, D_loss: 0.8440 G_loss: 1.5580\n"
     ]
    },
    {
     "name": "stderr",
     "output_type": "stream",
     "text": [
      "100%|██████████| 468/468 [00:22<00:00, 20.40it/s]\n",
      "  0%|          | 0/468 [00:00<?, ?it/s]"
     ]
    },
    {
     "name": "stdout",
     "output_type": "stream",
     "text": [
      "epoch 30, D_loss: 0.8538 G_loss: 1.5779\n"
     ]
    },
    {
     "name": "stderr",
     "output_type": "stream",
     "text": [
      "100%|██████████| 468/468 [00:23<00:00, 20.05it/s]\n",
      "  1%|          | 3/468 [00:00<00:22, 20.60it/s]"
     ]
    },
    {
     "name": "stdout",
     "output_type": "stream",
     "text": [
      "epoch 31, D_loss: 0.8361 G_loss: 1.6034\n"
     ]
    },
    {
     "name": "stderr",
     "output_type": "stream",
     "text": [
      "100%|██████████| 468/468 [00:23<00:00, 19.91it/s]\n",
      "  0%|          | 2/468 [00:00<00:24, 18.70it/s]"
     ]
    },
    {
     "name": "stdout",
     "output_type": "stream",
     "text": [
      "epoch 32, D_loss: 0.8341 G_loss: 1.6162\n"
     ]
    },
    {
     "name": "stderr",
     "output_type": "stream",
     "text": [
      "100%|██████████| 468/468 [00:24<00:00, 19.34it/s]\n",
      "  0%|          | 2/468 [00:00<00:24, 19.26it/s]"
     ]
    },
    {
     "name": "stdout",
     "output_type": "stream",
     "text": [
      "epoch 33, D_loss: 0.8238 G_loss: 1.6294\n"
     ]
    },
    {
     "name": "stderr",
     "output_type": "stream",
     "text": [
      "100%|██████████| 468/468 [00:23<00:00, 19.70it/s]\n",
      "  0%|          | 2/468 [00:00<00:24, 18.81it/s]"
     ]
    },
    {
     "name": "stdout",
     "output_type": "stream",
     "text": [
      "epoch 34, D_loss: 0.8190 G_loss: 1.6397\n"
     ]
    },
    {
     "name": "stderr",
     "output_type": "stream",
     "text": [
      "100%|██████████| 468/468 [00:22<00:00, 20.39it/s]\n",
      "  1%|          | 3/468 [00:00<00:22, 21.07it/s]"
     ]
    },
    {
     "name": "stdout",
     "output_type": "stream",
     "text": [
      "epoch 35, D_loss: 0.8077 G_loss: 1.7025\n"
     ]
    },
    {
     "name": "stderr",
     "output_type": "stream",
     "text": [
      "100%|██████████| 468/468 [00:22<00:00, 20.49it/s]\n",
      "  0%|          | 0/468 [00:00<?, ?it/s]"
     ]
    },
    {
     "name": "stdout",
     "output_type": "stream",
     "text": [
      "epoch 36, D_loss: 0.7991 G_loss: 1.7250\n"
     ]
    },
    {
     "name": "stderr",
     "output_type": "stream",
     "text": [
      "100%|██████████| 468/468 [00:23<00:00, 20.27it/s]\n",
      "  1%|          | 3/468 [00:00<00:22, 20.99it/s]"
     ]
    },
    {
     "name": "stdout",
     "output_type": "stream",
     "text": [
      "epoch 37, D_loss: 0.7936 G_loss: 1.7207\n"
     ]
    },
    {
     "name": "stderr",
     "output_type": "stream",
     "text": [
      "100%|██████████| 468/468 [00:22<00:00, 20.40it/s]\n",
      "  0%|          | 0/468 [00:00<?, ?it/s]"
     ]
    },
    {
     "name": "stdout",
     "output_type": "stream",
     "text": [
      "epoch 38, D_loss: 0.7756 G_loss: 1.7645\n"
     ]
    },
    {
     "name": "stderr",
     "output_type": "stream",
     "text": [
      "100%|██████████| 468/468 [00:22<00:00, 20.95it/s]\n",
      "  1%|          | 3/468 [00:00<00:22, 21.13it/s]"
     ]
    },
    {
     "name": "stdout",
     "output_type": "stream",
     "text": [
      "epoch 39, D_loss: 0.7807 G_loss: 1.7657\n"
     ]
    },
    {
     "name": "stderr",
     "output_type": "stream",
     "text": [
      "100%|██████████| 468/468 [00:22<00:00, 20.74it/s]\n",
      "  1%|          | 3/468 [00:00<00:22, 20.90it/s]"
     ]
    },
    {
     "name": "stdout",
     "output_type": "stream",
     "text": [
      "epoch 40, D_loss: 0.7643 G_loss: 1.7993\n"
     ]
    },
    {
     "name": "stderr",
     "output_type": "stream",
     "text": [
      "100%|██████████| 468/468 [00:22<00:00, 20.75it/s]\n",
      "  0%|          | 2/468 [00:00<00:23, 19.57it/s]"
     ]
    },
    {
     "name": "stdout",
     "output_type": "stream",
     "text": [
      "epoch 41, D_loss: 0.7523 G_loss: 1.8237\n"
     ]
    },
    {
     "name": "stderr",
     "output_type": "stream",
     "text": [
      "100%|██████████| 468/468 [00:22<00:00, 20.45it/s]\n",
      "  0%|          | 0/468 [00:00<?, ?it/s]"
     ]
    },
    {
     "name": "stdout",
     "output_type": "stream",
     "text": [
      "epoch 42, D_loss: 0.7604 G_loss: 1.8339\n"
     ]
    },
    {
     "name": "stderr",
     "output_type": "stream",
     "text": [
      "100%|██████████| 468/468 [00:22<00:00, 20.46it/s]\n",
      "  0%|          | 0/468 [00:00<?, ?it/s]"
     ]
    },
    {
     "name": "stdout",
     "output_type": "stream",
     "text": [
      "epoch 43, D_loss: 0.7547 G_loss: 1.8377\n"
     ]
    },
    {
     "name": "stderr",
     "output_type": "stream",
     "text": [
      "100%|██████████| 468/468 [00:22<00:00, 21.00it/s]\n",
      "  0%|          | 0/468 [00:00<?, ?it/s]"
     ]
    },
    {
     "name": "stdout",
     "output_type": "stream",
     "text": [
      "epoch 44, D_loss: 0.7420 G_loss: 1.8873\n"
     ]
    },
    {
     "name": "stderr",
     "output_type": "stream",
     "text": [
      "100%|██████████| 468/468 [00:22<00:00, 20.94it/s]\n",
      "  1%|          | 3/468 [00:00<00:22, 20.97it/s]"
     ]
    },
    {
     "name": "stdout",
     "output_type": "stream",
     "text": [
      "epoch 45, D_loss: 0.7490 G_loss: 1.9071\n"
     ]
    },
    {
     "name": "stderr",
     "output_type": "stream",
     "text": [
      "100%|██████████| 468/468 [00:23<00:00, 20.20it/s]\n",
      "  0%|          | 2/468 [00:00<00:25, 18.62it/s]"
     ]
    },
    {
     "name": "stdout",
     "output_type": "stream",
     "text": [
      "epoch 46, D_loss: 0.7308 G_loss: 1.9259\n"
     ]
    },
    {
     "name": "stderr",
     "output_type": "stream",
     "text": [
      "100%|██████████| 468/468 [00:23<00:00, 19.81it/s]\n",
      "  0%|          | 2/468 [00:00<00:24, 19.01it/s]"
     ]
    },
    {
     "name": "stdout",
     "output_type": "stream",
     "text": [
      "epoch 47, D_loss: 0.7354 G_loss: 1.9113\n"
     ]
    },
    {
     "name": "stderr",
     "output_type": "stream",
     "text": [
      "100%|██████████| 468/468 [00:22<00:00, 20.65it/s]\n",
      "  0%|          | 0/468 [00:00<?, ?it/s]"
     ]
    },
    {
     "name": "stdout",
     "output_type": "stream",
     "text": [
      "epoch 48, D_loss: 0.7406 G_loss: 1.9615\n"
     ]
    },
    {
     "name": "stderr",
     "output_type": "stream",
     "text": [
      "100%|██████████| 468/468 [00:23<00:00, 20.34it/s]\n",
      "  0%|          | 2/468 [00:00<00:23, 19.93it/s]"
     ]
    },
    {
     "name": "stdout",
     "output_type": "stream",
     "text": [
      "epoch 49, D_loss: 0.7121 G_loss: 1.9671\n"
     ]
    },
    {
     "name": "stderr",
     "output_type": "stream",
     "text": [
      "100%|██████████| 468/468 [00:22<00:00, 20.59it/s]\n",
      "  0%|          | 2/468 [00:00<00:24, 18.94it/s]"
     ]
    },
    {
     "name": "stdout",
     "output_type": "stream",
     "text": [
      "epoch 50, D_loss: 0.7140 G_loss: 2.0056\n"
     ]
    },
    {
     "name": "stderr",
     "output_type": "stream",
     "text": [
      "100%|██████████| 468/468 [00:22<00:00, 20.55it/s]\n",
      "  0%|          | 0/468 [00:00<?, ?it/s]"
     ]
    },
    {
     "name": "stdout",
     "output_type": "stream",
     "text": [
      "epoch 51, D_loss: 0.7156 G_loss: 2.0192\n"
     ]
    },
    {
     "name": "stderr",
     "output_type": "stream",
     "text": [
      "100%|██████████| 468/468 [00:22<00:00, 20.53it/s]\n",
      "  1%|          | 3/468 [00:00<00:22, 20.77it/s]"
     ]
    },
    {
     "name": "stdout",
     "output_type": "stream",
     "text": [
      "epoch 52, D_loss: 0.7134 G_loss: 2.0246\n"
     ]
    },
    {
     "name": "stderr",
     "output_type": "stream",
     "text": [
      "100%|██████████| 468/468 [00:22<00:00, 20.60it/s]\n",
      "  1%|          | 3/468 [00:00<00:22, 20.70it/s]"
     ]
    },
    {
     "name": "stdout",
     "output_type": "stream",
     "text": [
      "epoch 53, D_loss: 0.7150 G_loss: 2.0565\n"
     ]
    },
    {
     "name": "stderr",
     "output_type": "stream",
     "text": [
      "100%|██████████| 468/468 [00:22<00:00, 20.52it/s]\n"
     ]
    },
    {
     "name": "stdout",
     "output_type": "stream",
     "text": [
      "epoch 54, D_loss: 0.7166 G_loss: 2.0297\n"
     ]
    },
    {
     "name": "stderr",
     "output_type": "stream",
     "text": [
      "100%|██████████| 468/468 [00:22<00:00, 20.50it/s]\n",
      "  0%|          | 2/468 [00:00<00:23, 19.92it/s]"
     ]
    },
    {
     "name": "stdout",
     "output_type": "stream",
     "text": [
      "epoch 55, D_loss: 0.6938 G_loss: 2.0600\n"
     ]
    },
    {
     "name": "stderr",
     "output_type": "stream",
     "text": [
      "100%|██████████| 468/468 [00:22<00:00, 20.66it/s]\n",
      "  0%|          | 0/468 [00:00<?, ?it/s]"
     ]
    },
    {
     "name": "stdout",
     "output_type": "stream",
     "text": [
      "epoch 56, D_loss: 0.6964 G_loss: 2.0574\n"
     ]
    },
    {
     "name": "stderr",
     "output_type": "stream",
     "text": [
      "100%|██████████| 468/468 [00:22<00:00, 20.59it/s]\n",
      "  1%|          | 3/468 [00:00<00:22, 20.61it/s]"
     ]
    },
    {
     "name": "stdout",
     "output_type": "stream",
     "text": [
      "epoch 57, D_loss: 0.6896 G_loss: 2.0729\n"
     ]
    },
    {
     "name": "stderr",
     "output_type": "stream",
     "text": [
      "100%|██████████| 468/468 [00:22<00:00, 20.56it/s]\n",
      "  0%|          | 0/468 [00:00<?, ?it/s]"
     ]
    },
    {
     "name": "stdout",
     "output_type": "stream",
     "text": [
      "epoch 58, D_loss: 0.6850 G_loss: 2.1123\n"
     ]
    },
    {
     "name": "stderr",
     "output_type": "stream",
     "text": [
      "100%|██████████| 468/468 [00:22<00:00, 20.61it/s]\n",
      "  1%|          | 3/468 [00:00<00:22, 20.48it/s]"
     ]
    },
    {
     "name": "stdout",
     "output_type": "stream",
     "text": [
      "epoch 59, D_loss: 0.7073 G_loss: 2.0949\n"
     ]
    },
    {
     "name": "stderr",
     "output_type": "stream",
     "text": [
      "100%|██████████| 468/468 [00:22<00:00, 20.53it/s]\n",
      "  0%|          | 0/468 [00:00<?, ?it/s]"
     ]
    },
    {
     "name": "stdout",
     "output_type": "stream",
     "text": [
      "epoch 60, D_loss: 0.6829 G_loss: 2.1207\n"
     ]
    },
    {
     "name": "stderr",
     "output_type": "stream",
     "text": [
      "100%|██████████| 468/468 [00:22<00:00, 20.98it/s]\n",
      "  1%|          | 3/468 [00:00<00:23, 19.78it/s]"
     ]
    },
    {
     "name": "stdout",
     "output_type": "stream",
     "text": [
      "epoch 61, D_loss: 0.6875 G_loss: 2.1332\n"
     ]
    },
    {
     "name": "stderr",
     "output_type": "stream",
     "text": [
      "100%|██████████| 468/468 [00:22<00:00, 20.99it/s]\n",
      "  1%|          | 3/468 [00:00<00:22, 20.77it/s]"
     ]
    },
    {
     "name": "stdout",
     "output_type": "stream",
     "text": [
      "epoch 62, D_loss: 0.6904 G_loss: 2.1460\n"
     ]
    },
    {
     "name": "stderr",
     "output_type": "stream",
     "text": [
      "100%|██████████| 468/468 [00:22<00:00, 20.97it/s]\n",
      "  1%|          | 3/468 [00:00<00:22, 20.99it/s]"
     ]
    },
    {
     "name": "stdout",
     "output_type": "stream",
     "text": [
      "epoch 63, D_loss: 0.6558 G_loss: 2.1648\n"
     ]
    },
    {
     "name": "stderr",
     "output_type": "stream",
     "text": [
      "100%|██████████| 468/468 [00:22<00:00, 21.01it/s]\n",
      "  0%|          | 0/468 [00:00<?, ?it/s]"
     ]
    },
    {
     "name": "stdout",
     "output_type": "stream",
     "text": [
      "epoch 64, D_loss: 0.6831 G_loss: 2.2057\n"
     ]
    },
    {
     "name": "stderr",
     "output_type": "stream",
     "text": [
      "100%|██████████| 468/468 [00:22<00:00, 20.96it/s]\n",
      "  0%|          | 0/468 [00:00<?, ?it/s]"
     ]
    },
    {
     "name": "stdout",
     "output_type": "stream",
     "text": [
      "epoch 65, D_loss: 0.6821 G_loss: 2.1994\n"
     ]
    },
    {
     "name": "stderr",
     "output_type": "stream",
     "text": [
      "100%|██████████| 468/468 [00:22<00:00, 21.03it/s]\n",
      "  0%|          | 2/468 [00:00<00:24, 19.34it/s]"
     ]
    },
    {
     "name": "stdout",
     "output_type": "stream",
     "text": [
      "epoch 66, D_loss: 0.6596 G_loss: 2.1837\n"
     ]
    },
    {
     "name": "stderr",
     "output_type": "stream",
     "text": [
      "100%|██████████| 468/468 [00:23<00:00, 20.01it/s]\n",
      "  0%|          | 2/468 [00:00<00:25, 18.44it/s]"
     ]
    },
    {
     "name": "stdout",
     "output_type": "stream",
     "text": [
      "epoch 67, D_loss: 0.6626 G_loss: 2.2184\n"
     ]
    },
    {
     "name": "stderr",
     "output_type": "stream",
     "text": [
      "100%|██████████| 468/468 [00:23<00:00, 20.13it/s]\n",
      "  0%|          | 0/468 [00:00<?, ?it/s]"
     ]
    },
    {
     "name": "stdout",
     "output_type": "stream",
     "text": [
      "epoch 68, D_loss: 0.6689 G_loss: 2.2129\n"
     ]
    },
    {
     "name": "stderr",
     "output_type": "stream",
     "text": [
      "100%|██████████| 468/468 [00:24<00:00, 19.13it/s]\n",
      "  0%|          | 2/468 [00:00<00:25, 18.15it/s]"
     ]
    },
    {
     "name": "stdout",
     "output_type": "stream",
     "text": [
      "epoch 69, D_loss: 0.6599 G_loss: 2.2336\n"
     ]
    },
    {
     "name": "stderr",
     "output_type": "stream",
     "text": [
      "100%|██████████| 468/468 [00:25<00:00, 18.71it/s]\n",
      "  0%|          | 2/468 [00:00<00:25, 18.56it/s]"
     ]
    },
    {
     "name": "stdout",
     "output_type": "stream",
     "text": [
      "epoch 70, D_loss: 0.6498 G_loss: 2.2320\n"
     ]
    },
    {
     "name": "stderr",
     "output_type": "stream",
     "text": [
      "100%|██████████| 468/468 [00:23<00:00, 19.84it/s]\n",
      "  0%|          | 2/468 [00:00<00:23, 19.93it/s]"
     ]
    },
    {
     "name": "stdout",
     "output_type": "stream",
     "text": [
      "epoch 71, D_loss: 0.6635 G_loss: 2.2594\n"
     ]
    },
    {
     "name": "stderr",
     "output_type": "stream",
     "text": [
      "100%|██████████| 468/468 [00:23<00:00, 19.93it/s]\n"
     ]
    },
    {
     "name": "stdout",
     "output_type": "stream",
     "text": [
      "epoch 72, D_loss: 0.6545 G_loss: 2.2586\n"
     ]
    },
    {
     "name": "stderr",
     "output_type": "stream",
     "text": [
      "100%|██████████| 468/468 [00:22<00:00, 20.57it/s]\n",
      "  1%|          | 3/468 [00:00<00:22, 20.77it/s]"
     ]
    },
    {
     "name": "stdout",
     "output_type": "stream",
     "text": [
      "epoch 73, D_loss: 0.6617 G_loss: 2.2837\n"
     ]
    },
    {
     "name": "stderr",
     "output_type": "stream",
     "text": [
      "100%|██████████| 468/468 [00:23<00:00, 19.86it/s]\n"
     ]
    },
    {
     "name": "stdout",
     "output_type": "stream",
     "text": [
      "epoch 74, D_loss: 0.6593 G_loss: 2.2922\n"
     ]
    },
    {
     "name": "stderr",
     "output_type": "stream",
     "text": [
      "100%|██████████| 468/468 [00:23<00:00, 19.51it/s]\n",
      "  0%|          | 2/468 [00:00<00:26, 17.83it/s]"
     ]
    },
    {
     "name": "stdout",
     "output_type": "stream",
     "text": [
      "epoch 75, D_loss: 0.6793 G_loss: 2.2755\n"
     ]
    },
    {
     "name": "stderr",
     "output_type": "stream",
     "text": [
      "100%|██████████| 468/468 [00:22<00:00, 20.35it/s]\n",
      "  0%|          | 2/468 [00:00<00:23, 19.98it/s]"
     ]
    },
    {
     "name": "stdout",
     "output_type": "stream",
     "text": [
      "epoch 76, D_loss: 0.6638 G_loss: 2.2732\n"
     ]
    },
    {
     "name": "stderr",
     "output_type": "stream",
     "text": [
      "100%|██████████| 468/468 [00:22<00:00, 20.42it/s]\n",
      "  0%|          | 0/468 [00:00<?, ?it/s]"
     ]
    },
    {
     "name": "stdout",
     "output_type": "stream",
     "text": [
      "epoch 77, D_loss: 0.6538 G_loss: 2.2979\n"
     ]
    },
    {
     "name": "stderr",
     "output_type": "stream",
     "text": [
      "100%|██████████| 468/468 [00:22<00:00, 20.56it/s]\n",
      "  0%|          | 0/468 [00:00<?, ?it/s]"
     ]
    },
    {
     "name": "stdout",
     "output_type": "stream",
     "text": [
      "epoch 78, D_loss: 0.6559 G_loss: 2.2734\n"
     ]
    },
    {
     "name": "stderr",
     "output_type": "stream",
     "text": [
      "100%|██████████| 468/468 [00:22<00:00, 20.55it/s]\n",
      "  1%|          | 3/468 [00:00<00:22, 20.55it/s]"
     ]
    },
    {
     "name": "stdout",
     "output_type": "stream",
     "text": [
      "epoch 79, D_loss: 0.6451 G_loss: 2.3189\n"
     ]
    },
    {
     "name": "stderr",
     "output_type": "stream",
     "text": [
      "100%|██████████| 468/468 [00:22<00:00, 20.55it/s]\n",
      "  0%|          | 0/468 [00:00<?, ?it/s]"
     ]
    },
    {
     "name": "stdout",
     "output_type": "stream",
     "text": [
      "epoch 80, D_loss: 0.6515 G_loss: 2.3128\n"
     ]
    },
    {
     "name": "stderr",
     "output_type": "stream",
     "text": [
      "100%|██████████| 468/468 [00:22<00:00, 20.63it/s]\n",
      "  0%|          | 2/468 [00:00<00:23, 20.00it/s]"
     ]
    },
    {
     "name": "stdout",
     "output_type": "stream",
     "text": [
      "epoch 81, D_loss: 0.6386 G_loss: 2.3258\n"
     ]
    },
    {
     "name": "stderr",
     "output_type": "stream",
     "text": [
      "100%|██████████| 468/468 [00:23<00:00, 20.03it/s]\n",
      "  0%|          | 2/468 [00:00<00:23, 19.71it/s]"
     ]
    },
    {
     "name": "stdout",
     "output_type": "stream",
     "text": [
      "epoch 82, D_loss: 0.6524 G_loss: 2.3184\n"
     ]
    },
    {
     "name": "stderr",
     "output_type": "stream",
     "text": [
      "100%|██████████| 468/468 [00:23<00:00, 19.89it/s]\n",
      "  0%|          | 0/468 [00:00<?, ?it/s]"
     ]
    },
    {
     "name": "stdout",
     "output_type": "stream",
     "text": [
      "epoch 83, D_loss: 0.6413 G_loss: 2.3444\n"
     ]
    },
    {
     "name": "stderr",
     "output_type": "stream",
     "text": [
      "100%|██████████| 468/468 [00:23<00:00, 20.04it/s]\n"
     ]
    },
    {
     "name": "stdout",
     "output_type": "stream",
     "text": [
      "epoch 84, D_loss: 0.6466 G_loss: 2.3384\n"
     ]
    },
    {
     "name": "stderr",
     "output_type": "stream",
     "text": [
      "100%|██████████| 468/468 [00:22<00:00, 21.01it/s]\n",
      "  1%|          | 3/468 [00:00<00:22, 21.00it/s]"
     ]
    },
    {
     "name": "stdout",
     "output_type": "stream",
     "text": [
      "epoch 85, D_loss: 0.6483 G_loss: 2.3460\n"
     ]
    },
    {
     "name": "stderr",
     "output_type": "stream",
     "text": [
      "100%|██████████| 468/468 [00:22<00:00, 20.51it/s]\n",
      "  0%|          | 0/468 [00:00<?, ?it/s]"
     ]
    },
    {
     "name": "stdout",
     "output_type": "stream",
     "text": [
      "epoch 86, D_loss: 0.6436 G_loss: 2.3613\n"
     ]
    },
    {
     "name": "stderr",
     "output_type": "stream",
     "text": [
      "100%|██████████| 468/468 [00:23<00:00, 20.18it/s]\n",
      "  1%|          | 3/468 [00:00<00:22, 21.00it/s]"
     ]
    },
    {
     "name": "stdout",
     "output_type": "stream",
     "text": [
      "epoch 87, D_loss: 0.6551 G_loss: 2.3895\n"
     ]
    },
    {
     "name": "stderr",
     "output_type": "stream",
     "text": [
      "100%|██████████| 468/468 [00:23<00:00, 20.32it/s]\n",
      "  0%|          | 2/468 [00:00<00:24, 18.82it/s]"
     ]
    },
    {
     "name": "stdout",
     "output_type": "stream",
     "text": [
      "epoch 88, D_loss: 0.6280 G_loss: 2.4019\n"
     ]
    },
    {
     "name": "stderr",
     "output_type": "stream",
     "text": [
      "100%|██████████| 468/468 [00:23<00:00, 19.61it/s]\n",
      "  0%|          | 2/468 [00:00<00:23, 19.98it/s]"
     ]
    },
    {
     "name": "stdout",
     "output_type": "stream",
     "text": [
      "epoch 89, D_loss: 0.6373 G_loss: 2.3793\n"
     ]
    },
    {
     "name": "stderr",
     "output_type": "stream",
     "text": [
      "100%|██████████| 468/468 [00:22<00:00, 20.49it/s]\n",
      "  0%|          | 2/468 [00:00<00:23, 19.93it/s]"
     ]
    },
    {
     "name": "stdout",
     "output_type": "stream",
     "text": [
      "epoch 90, D_loss: 0.6372 G_loss: 2.4448\n"
     ]
    },
    {
     "name": "stderr",
     "output_type": "stream",
     "text": [
      "100%|██████████| 468/468 [00:23<00:00, 20.33it/s]\n",
      "  1%|          | 3/468 [00:00<00:22, 20.53it/s]"
     ]
    },
    {
     "name": "stdout",
     "output_type": "stream",
     "text": [
      "epoch 91, D_loss: 0.6312 G_loss: 2.4415\n"
     ]
    },
    {
     "name": "stderr",
     "output_type": "stream",
     "text": [
      "100%|██████████| 468/468 [00:22<00:00, 20.41it/s]\n",
      "  1%|          | 3/468 [00:00<00:22, 20.59it/s]"
     ]
    },
    {
     "name": "stdout",
     "output_type": "stream",
     "text": [
      "epoch 92, D_loss: 0.6357 G_loss: 2.4569\n"
     ]
    },
    {
     "name": "stderr",
     "output_type": "stream",
     "text": [
      "100%|██████████| 468/468 [00:23<00:00, 20.25it/s]\n",
      "  0%|          | 2/468 [00:00<00:24, 19.25it/s]"
     ]
    },
    {
     "name": "stdout",
     "output_type": "stream",
     "text": [
      "epoch 93, D_loss: 0.6308 G_loss: 2.4091\n"
     ]
    },
    {
     "name": "stderr",
     "output_type": "stream",
     "text": [
      "100%|██████████| 468/468 [00:23<00:00, 19.61it/s]\n",
      "  0%|          | 2/468 [00:00<00:24, 18.87it/s]"
     ]
    },
    {
     "name": "stdout",
     "output_type": "stream",
     "text": [
      "epoch 94, D_loss: 0.6464 G_loss: 2.4387\n"
     ]
    },
    {
     "name": "stderr",
     "output_type": "stream",
     "text": [
      "100%|██████████| 468/468 [00:23<00:00, 19.83it/s]\n",
      "  0%|          | 2/468 [00:00<00:24, 18.66it/s]"
     ]
    },
    {
     "name": "stdout",
     "output_type": "stream",
     "text": [
      "epoch 95, D_loss: 0.6078 G_loss: 2.4571\n"
     ]
    },
    {
     "name": "stderr",
     "output_type": "stream",
     "text": [
      "100%|██████████| 468/468 [00:23<00:00, 20.15it/s]\n",
      "  1%|          | 3/468 [00:00<00:22, 20.52it/s]"
     ]
    },
    {
     "name": "stdout",
     "output_type": "stream",
     "text": [
      "epoch 96, D_loss: 0.6245 G_loss: 2.4384\n"
     ]
    },
    {
     "name": "stderr",
     "output_type": "stream",
     "text": [
      "100%|██████████| 468/468 [00:22<00:00, 20.50it/s]\n",
      "  1%|          | 3/468 [00:00<00:22, 20.72it/s]"
     ]
    },
    {
     "name": "stdout",
     "output_type": "stream",
     "text": [
      "epoch 97, D_loss: 0.6312 G_loss: 2.4486\n"
     ]
    },
    {
     "name": "stderr",
     "output_type": "stream",
     "text": [
      "100%|██████████| 468/468 [00:23<00:00, 20.21it/s]\n",
      "  0%|          | 0/468 [00:00<?, ?it/s]"
     ]
    },
    {
     "name": "stdout",
     "output_type": "stream",
     "text": [
      "epoch 98, D_loss: 0.6354 G_loss: 2.4615\n"
     ]
    },
    {
     "name": "stderr",
     "output_type": "stream",
     "text": [
      "100%|██████████| 468/468 [00:22<00:00, 20.42it/s]\n",
      "  0%|          | 2/468 [00:00<00:23, 19.84it/s]"
     ]
    },
    {
     "name": "stdout",
     "output_type": "stream",
     "text": [
      "epoch 99, D_loss: 0.6123 G_loss: 2.4655\n"
     ]
    },
    {
     "name": "stderr",
     "output_type": "stream",
     "text": [
      "100%|██████████| 468/468 [00:23<00:00, 19.91it/s]"
     ]
    },
    {
     "name": "stdout",
     "output_type": "stream",
     "text": [
      "epoch 100, D_loss: 0.6317 G_loss: 2.4631\n"
     ]
    },
    {
     "name": "stderr",
     "output_type": "stream",
     "text": [
      "\n"
     ]
    }
   ],
   "source": [
    "writer = SummaryWriter()\n",
    "\n",
    "history = {}\n",
    "history['D_loss'] = []\n",
    "history['G_loss'] = []\n",
    "num_iter = 0\n",
    "\n",
    "for epoch in range(num_epochs):\n",
    "    D_loss, G_loss, num_iter, beta = train(D, G, D_criterion, G_criterion, D_optimizer, G_optimizer, data_loader, beta, writer, num_iter)\n",
    "    \n",
    "    print('epoch %d, D_loss: %.4f G_loss: %.4f' % (epoch + 1, D_loss, G_loss))\n",
    "    history['D_loss'].append(D_loss)\n",
    "    history['G_loss'].append(G_loss)\n",
    "    \n",
    "    # Generatorから画像を生成してモデルも保存\n",
    "    generate(epoch + 1, G, log_dir)\n",
    "    torch.save(G.state_dict(), os.path.join(log_dir, 'G_%03d.pth' % (epoch + 1)))\n",
    "    torch.save(D.state_dict(), os.path.join(log_dir, 'D_%03d.pth' % (epoch + 1)))"
   ]
  },
  {
   "cell_type": "code",
   "execution_count": 13,
   "metadata": {},
   "outputs": [
    {
     "data": {
      "text/plain": [
       "<matplotlib.legend.Legend at 0x7f93a476c8d0>"
      ]
     },
     "execution_count": 13,
     "metadata": {},
     "output_type": "execute_result"
    },
    {
     "data": {
      "image/png": "[encoded data removed]",
      "text/plain": [
       "<Figure size 432x288 with 1 Axes>"
      ]
     },
     "metadata": {},
     "output_type": "display_data"
    }
   ],
   "source": [
    "D_loss, G_loss = history['D_loss'], history['G_loss']\n",
    "plt.plot(D_loss, label='D_loss')\n",
    "plt.plot(G_loss, label='G_loss')\n",
    "plt.xlabel('epoch')\n",
    "plt.ylabel('loss')\n",
    "plt.legend()"
   ]
  },
  {
   "cell_type": "code",
   "execution_count": 14,
   "metadata": {},
   "outputs": [
    {
     "data": {
      "image/png": "[encoded data removed]",
      "text/plain": [
       "<IPython.core.display.Image object>"
      ]
     },
     "execution_count": 14,
     "metadata": {},
     "output_type": "execute_result"
    }
   ],
   "source": [
    "from IPython.display import Image\n",
    "Image('logs/vgan/epoch_001.png')"
   ]
  },
  {
   "cell_type": "code",
   "execution_count": 15,
   "metadata": {},
   "outputs": [
    {
     "data": {
      "image/png": "[encoded data removed]",
      "text/plain": [
       "<IPython.core.display.Image object>"
      ]
     },
     "execution_count": 15,
     "metadata": {},
     "output_type": "execute_result"
    }
   ],
   "source": [
    "Image('logs/vgan/epoch_010.png')"
   ]
  },
  {
   "cell_type": "code",
   "execution_count": 21,
   "metadata": {},
   "outputs": [
    {
     "data": {
      "image/png": "[encoded data removed]",
      "text/plain": [
       "<IPython.core.display.Image object>"
      ]
     },
     "execution_count": 21,
     "metadata": {},
     "output_type": "execute_result"
    }
   ],
   "source": [
    "Image('logs/vgan/epoch_015.png')"
   ]
  },
  {
   "cell_type": "code",
   "execution_count": 24,
   "metadata": {},
   "outputs": [
    {
     "data": {
      "image/png": "[encoded data removed]",
      "text/plain": [
       "<IPython.core.display.Image object>"
      ]
     },
     "execution_count": 24,
     "metadata": {},
     "output_type": "execute_result"
    }
   ],
   "source": [
    "Image('logs/vgan/epoch_100.png')"
   ]
  }
 ],
 "metadata": {
  "kernelspec": {
   "display_name": "Python 3",
   "language": "python",
   "name": "python3"
  },
  "language_info": {
   "codemirror_mode": {
    "name": "ipython",
    "version": 3
   },
   "file_extension": ".py",
   "mimetype": "text/x-python",
   "name": "python",
   "nbconvert_exporter": "python",
   "pygments_lexer": "ipython3",
   "version": "3.6.5"
  }
 },
 "nbformat": 4,
 "nbformat_minor": 2
}
